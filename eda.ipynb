{
 "cells": [
  {
   "cell_type": "code",
   "execution_count": 125,
   "id": "b489cb9e",
   "metadata": {},
   "outputs": [],
   "source": [
    "import pandas as pd\n",
    "pd.plotting.register_matplotlib_converters()\n",
    "import matplotlib.pyplot as plt\n",
    "%matplotlib inline\n",
    "import numpy as np"
   ]
  },
  {
   "cell_type": "code",
   "execution_count": 126,
   "id": "b01a1809",
   "metadata": {},
   "outputs": [],
   "source": [
    "train_data = pd.read_csv(\"train.csv\")"
   ]
  },
  {
   "cell_type": "code",
   "execution_count": 127,
   "id": "3778acd7",
   "metadata": {},
   "outputs": [
    {
     "data": {
      "text/html": [
       "<div>\n",
       "<style scoped>\n",
       "    .dataframe tbody tr th:only-of-type {\n",
       "        vertical-align: middle;\n",
       "    }\n",
       "\n",
       "    .dataframe tbody tr th {\n",
       "        vertical-align: top;\n",
       "    }\n",
       "\n",
       "    .dataframe thead th {\n",
       "        text-align: right;\n",
       "    }\n",
       "</style>\n",
       "<table border=\"1\" class=\"dataframe\">\n",
       "  <thead>\n",
       "    <tr style=\"text-align: right;\">\n",
       "      <th></th>\n",
       "      <th>PassengerId</th>\n",
       "      <th>Survived</th>\n",
       "      <th>Pclass</th>\n",
       "      <th>Name</th>\n",
       "      <th>Sex</th>\n",
       "      <th>Age</th>\n",
       "      <th>SibSp</th>\n",
       "      <th>Parch</th>\n",
       "      <th>Ticket</th>\n",
       "      <th>Fare</th>\n",
       "      <th>Cabin</th>\n",
       "      <th>Embarked</th>\n",
       "    </tr>\n",
       "  </thead>\n",
       "  <tbody>\n",
       "    <tr>\n",
       "      <th>0</th>\n",
       "      <td>0</td>\n",
       "      <td>1</td>\n",
       "      <td>1</td>\n",
       "      <td>Oconnor, Frankie</td>\n",
       "      <td>male</td>\n",
       "      <td>NaN</td>\n",
       "      <td>2</td>\n",
       "      <td>0</td>\n",
       "      <td>209245</td>\n",
       "      <td>27.14</td>\n",
       "      <td>C12239</td>\n",
       "      <td>S</td>\n",
       "    </tr>\n",
       "    <tr>\n",
       "      <th>1</th>\n",
       "      <td>1</td>\n",
       "      <td>0</td>\n",
       "      <td>3</td>\n",
       "      <td>Bryan, Drew</td>\n",
       "      <td>male</td>\n",
       "      <td>NaN</td>\n",
       "      <td>0</td>\n",
       "      <td>0</td>\n",
       "      <td>27323</td>\n",
       "      <td>13.35</td>\n",
       "      <td>NaN</td>\n",
       "      <td>S</td>\n",
       "    </tr>\n",
       "    <tr>\n",
       "      <th>2</th>\n",
       "      <td>2</td>\n",
       "      <td>0</td>\n",
       "      <td>3</td>\n",
       "      <td>Owens, Kenneth</td>\n",
       "      <td>male</td>\n",
       "      <td>0.33</td>\n",
       "      <td>1</td>\n",
       "      <td>2</td>\n",
       "      <td>CA 457703</td>\n",
       "      <td>71.29</td>\n",
       "      <td>NaN</td>\n",
       "      <td>S</td>\n",
       "    </tr>\n",
       "    <tr>\n",
       "      <th>3</th>\n",
       "      <td>3</td>\n",
       "      <td>0</td>\n",
       "      <td>3</td>\n",
       "      <td>Kramer, James</td>\n",
       "      <td>male</td>\n",
       "      <td>19.00</td>\n",
       "      <td>0</td>\n",
       "      <td>0</td>\n",
       "      <td>A. 10866</td>\n",
       "      <td>13.04</td>\n",
       "      <td>NaN</td>\n",
       "      <td>S</td>\n",
       "    </tr>\n",
       "    <tr>\n",
       "      <th>4</th>\n",
       "      <td>4</td>\n",
       "      <td>1</td>\n",
       "      <td>3</td>\n",
       "      <td>Bond, Michael</td>\n",
       "      <td>male</td>\n",
       "      <td>25.00</td>\n",
       "      <td>0</td>\n",
       "      <td>0</td>\n",
       "      <td>427635</td>\n",
       "      <td>7.76</td>\n",
       "      <td>NaN</td>\n",
       "      <td>S</td>\n",
       "    </tr>\n",
       "  </tbody>\n",
       "</table>\n",
       "</div>"
      ],
      "text/plain": [
       "   PassengerId  Survived  Pclass              Name   Sex    Age  SibSp  Parch  \\\n",
       "0            0         1       1  Oconnor, Frankie  male    NaN      2      0   \n",
       "1            1         0       3       Bryan, Drew  male    NaN      0      0   \n",
       "2            2         0       3    Owens, Kenneth  male   0.33      1      2   \n",
       "3            3         0       3     Kramer, James  male  19.00      0      0   \n",
       "4            4         1       3     Bond, Michael  male  25.00      0      0   \n",
       "\n",
       "      Ticket   Fare   Cabin Embarked  \n",
       "0     209245  27.14  C12239        S  \n",
       "1      27323  13.35     NaN        S  \n",
       "2  CA 457703  71.29     NaN        S  \n",
       "3   A. 10866  13.04     NaN        S  \n",
       "4     427635   7.76     NaN        S  "
      ]
     },
     "execution_count": 127,
     "metadata": {},
     "output_type": "execute_result"
    }
   ],
   "source": [
    "train_data.head()"
   ]
  },
  {
   "cell_type": "code",
   "execution_count": 128,
   "id": "24528223",
   "metadata": {},
   "outputs": [
    {
     "data": {
      "text/plain": [
       "(100000, 12)"
      ]
     },
     "execution_count": 128,
     "metadata": {},
     "output_type": "execute_result"
    }
   ],
   "source": [
    "train_data.shape"
   ]
  },
  {
   "cell_type": "code",
   "execution_count": 129,
   "id": "a182a812",
   "metadata": {},
   "outputs": [
    {
     "data": {
      "text/html": [
       "<div>\n",
       "<style scoped>\n",
       "    .dataframe tbody tr th:only-of-type {\n",
       "        vertical-align: middle;\n",
       "    }\n",
       "\n",
       "    .dataframe tbody tr th {\n",
       "        vertical-align: top;\n",
       "    }\n",
       "\n",
       "    .dataframe thead th {\n",
       "        text-align: right;\n",
       "    }\n",
       "</style>\n",
       "<table border=\"1\" class=\"dataframe\">\n",
       "  <thead>\n",
       "    <tr style=\"text-align: right;\">\n",
       "      <th></th>\n",
       "      <th>PassengerId</th>\n",
       "      <th>Survived</th>\n",
       "      <th>Pclass</th>\n",
       "      <th>Name</th>\n",
       "      <th>Sex</th>\n",
       "      <th>Age</th>\n",
       "      <th>SibSp</th>\n",
       "      <th>Parch</th>\n",
       "      <th>Ticket</th>\n",
       "      <th>Fare</th>\n",
       "      <th>Cabin</th>\n",
       "      <th>Embarked</th>\n",
       "    </tr>\n",
       "  </thead>\n",
       "  <tbody>\n",
       "    <tr>\n",
       "      <th>2</th>\n",
       "      <td>2</td>\n",
       "      <td>0</td>\n",
       "      <td>3</td>\n",
       "      <td>Owens, Kenneth</td>\n",
       "      <td>male</td>\n",
       "      <td>0.33</td>\n",
       "      <td>1</td>\n",
       "      <td>2</td>\n",
       "      <td>CA 457703</td>\n",
       "      <td>71.29</td>\n",
       "      <td>NaN</td>\n",
       "      <td>S</td>\n",
       "    </tr>\n",
       "    <tr>\n",
       "      <th>215</th>\n",
       "      <td>215</td>\n",
       "      <td>0</td>\n",
       "      <td>1</td>\n",
       "      <td>Partida, William</td>\n",
       "      <td>male</td>\n",
       "      <td>0.83</td>\n",
       "      <td>1</td>\n",
       "      <td>0</td>\n",
       "      <td>27228</td>\n",
       "      <td>10.53</td>\n",
       "      <td>NaN</td>\n",
       "      <td>S</td>\n",
       "    </tr>\n",
       "    <tr>\n",
       "      <th>228</th>\n",
       "      <td>228</td>\n",
       "      <td>1</td>\n",
       "      <td>3</td>\n",
       "      <td>Kabel, Rosa</td>\n",
       "      <td>female</td>\n",
       "      <td>0.50</td>\n",
       "      <td>1</td>\n",
       "      <td>2</td>\n",
       "      <td>201054</td>\n",
       "      <td>33.92</td>\n",
       "      <td>NaN</td>\n",
       "      <td>S</td>\n",
       "    </tr>\n",
       "    <tr>\n",
       "      <th>415</th>\n",
       "      <td>415</td>\n",
       "      <td>1</td>\n",
       "      <td>2</td>\n",
       "      <td>Blakey, Sandra</td>\n",
       "      <td>female</td>\n",
       "      <td>0.75</td>\n",
       "      <td>1</td>\n",
       "      <td>2</td>\n",
       "      <td>439368</td>\n",
       "      <td>34.37</td>\n",
       "      <td>NaN</td>\n",
       "      <td>S</td>\n",
       "    </tr>\n",
       "    <tr>\n",
       "      <th>444</th>\n",
       "      <td>444</td>\n",
       "      <td>1</td>\n",
       "      <td>1</td>\n",
       "      <td>Winterbottom, Velma</td>\n",
       "      <td>female</td>\n",
       "      <td>0.50</td>\n",
       "      <td>1</td>\n",
       "      <td>1</td>\n",
       "      <td>347054</td>\n",
       "      <td>32.83</td>\n",
       "      <td>C4421</td>\n",
       "      <td>S</td>\n",
       "    </tr>\n",
       "    <tr>\n",
       "      <th>...</th>\n",
       "      <td>...</td>\n",
       "      <td>...</td>\n",
       "      <td>...</td>\n",
       "      <td>...</td>\n",
       "      <td>...</td>\n",
       "      <td>...</td>\n",
       "      <td>...</td>\n",
       "      <td>...</td>\n",
       "      <td>...</td>\n",
       "      <td>...</td>\n",
       "      <td>...</td>\n",
       "      <td>...</td>\n",
       "    </tr>\n",
       "    <tr>\n",
       "      <th>99307</th>\n",
       "      <td>99307</td>\n",
       "      <td>1</td>\n",
       "      <td>2</td>\n",
       "      <td>Keyser, William</td>\n",
       "      <td>male</td>\n",
       "      <td>0.25</td>\n",
       "      <td>0</td>\n",
       "      <td>1</td>\n",
       "      <td>21907</td>\n",
       "      <td>71.57</td>\n",
       "      <td>NaN</td>\n",
       "      <td>S</td>\n",
       "    </tr>\n",
       "    <tr>\n",
       "      <th>99527</th>\n",
       "      <td>99527</td>\n",
       "      <td>0</td>\n",
       "      <td>3</td>\n",
       "      <td>Lawrence, Barry</td>\n",
       "      <td>male</td>\n",
       "      <td>0.92</td>\n",
       "      <td>1</td>\n",
       "      <td>1</td>\n",
       "      <td>439308</td>\n",
       "      <td>8.45</td>\n",
       "      <td>NaN</td>\n",
       "      <td>S</td>\n",
       "    </tr>\n",
       "    <tr>\n",
       "      <th>99601</th>\n",
       "      <td>99601</td>\n",
       "      <td>0</td>\n",
       "      <td>3</td>\n",
       "      <td>Smith, Roxanne</td>\n",
       "      <td>female</td>\n",
       "      <td>0.17</td>\n",
       "      <td>1</td>\n",
       "      <td>2</td>\n",
       "      <td>435887</td>\n",
       "      <td>67.06</td>\n",
       "      <td>NaN</td>\n",
       "      <td>C</td>\n",
       "    </tr>\n",
       "    <tr>\n",
       "      <th>99839</th>\n",
       "      <td>99839</td>\n",
       "      <td>1</td>\n",
       "      <td>3</td>\n",
       "      <td>Lewis, Jeffrey</td>\n",
       "      <td>male</td>\n",
       "      <td>0.83</td>\n",
       "      <td>1</td>\n",
       "      <td>1</td>\n",
       "      <td>14319</td>\n",
       "      <td>13.95</td>\n",
       "      <td>NaN</td>\n",
       "      <td>C</td>\n",
       "    </tr>\n",
       "    <tr>\n",
       "      <th>99888</th>\n",
       "      <td>99888</td>\n",
       "      <td>0</td>\n",
       "      <td>3</td>\n",
       "      <td>Franklin, Donald</td>\n",
       "      <td>male</td>\n",
       "      <td>0.50</td>\n",
       "      <td>2</td>\n",
       "      <td>1</td>\n",
       "      <td>12460</td>\n",
       "      <td>27.79</td>\n",
       "      <td>NaN</td>\n",
       "      <td>S</td>\n",
       "    </tr>\n",
       "  </tbody>\n",
       "</table>\n",
       "<p>642 rows × 12 columns</p>\n",
       "</div>"
      ],
      "text/plain": [
       "       PassengerId  Survived  Pclass                 Name     Sex   Age  \\\n",
       "2                2         0       3       Owens, Kenneth    male  0.33   \n",
       "215            215         0       1     Partida, William    male  0.83   \n",
       "228            228         1       3          Kabel, Rosa  female  0.50   \n",
       "415            415         1       2       Blakey, Sandra  female  0.75   \n",
       "444            444         1       1  Winterbottom, Velma  female  0.50   \n",
       "...            ...       ...     ...                  ...     ...   ...   \n",
       "99307        99307         1       2      Keyser, William    male  0.25   \n",
       "99527        99527         0       3      Lawrence, Barry    male  0.92   \n",
       "99601        99601         0       3       Smith, Roxanne  female  0.17   \n",
       "99839        99839         1       3       Lewis, Jeffrey    male  0.83   \n",
       "99888        99888         0       3     Franklin, Donald    male  0.50   \n",
       "\n",
       "       SibSp  Parch     Ticket   Fare  Cabin Embarked  \n",
       "2          1      2  CA 457703  71.29    NaN        S  \n",
       "215        1      0      27228  10.53    NaN        S  \n",
       "228        1      2     201054  33.92    NaN        S  \n",
       "415        1      2     439368  34.37    NaN        S  \n",
       "444        1      1     347054  32.83  C4421        S  \n",
       "...      ...    ...        ...    ...    ...      ...  \n",
       "99307      0      1      21907  71.57    NaN        S  \n",
       "99527      1      1     439308   8.45    NaN        S  \n",
       "99601      1      2     435887  67.06    NaN        C  \n",
       "99839      1      1      14319  13.95    NaN        C  \n",
       "99888      2      1      12460  27.79    NaN        S  \n",
       "\n",
       "[642 rows x 12 columns]"
      ]
     },
     "execution_count": 129,
     "metadata": {},
     "output_type": "execute_result"
    }
   ],
   "source": [
    "train_data[train_data['Age'] < 1]"
   ]
  },
  {
   "cell_type": "markdown",
   "id": "d07912a0",
   "metadata": {},
   "source": [
    "# Context"
   ]
  },
  {
   "cell_type": "markdown",
   "id": "eaee6ea3",
   "metadata": {},
   "source": [
    "The dataset contains information about passengers of Titanic. \n",
    "\n",
    "Labels to note:\n",
    "\n",
    "Survived - survival (0 = No; 1 = Yes)\n",
    "\n",
    "Pclass - passenger class (1 = 1st; 2 = 2nd; 3 = 3rd)\n",
    "\n",
    "Name - name\n",
    "\n",
    "Sex - sex\n",
    "\n",
    "Age - age\n",
    "\n",
    "SibSp - number of siblings/spouses aboard\n",
    "\n",
    "Parch - number of parents/children aboard\n",
    "\n",
    "Ticket - ticket number\n",
    "\n",
    "Fare - passenger fare\n",
    "\n",
    "Cabin - cabin\n",
    "\n",
    "Embarked - port of embarkation (C = Cherbourg; Q = Queenstown; S = Southampton)"
   ]
  },
  {
   "cell_type": "markdown",
   "id": "9b4320c6",
   "metadata": {},
   "source": [
    "# Data quality assessment"
   ]
  },
  {
   "cell_type": "code",
   "execution_count": 131,
   "id": "e443ca82",
   "metadata": {},
   "outputs": [
    {
     "name": "stdout",
     "output_type": "stream",
     "text": [
      "<class 'pandas.core.frame.DataFrame'>\n",
      "RangeIndex: 100000 entries, 0 to 99999\n",
      "Data columns (total 12 columns):\n",
      " #   Column       Non-Null Count   Dtype  \n",
      "---  ------       --------------   -----  \n",
      " 0   PassengerId  100000 non-null  int64  \n",
      " 1   Survived     100000 non-null  int64  \n",
      " 2   Pclass       100000 non-null  int64  \n",
      " 3   Name         100000 non-null  object \n",
      " 4   Sex          100000 non-null  object \n",
      " 5   Age          96708 non-null   float64\n",
      " 6   SibSp        100000 non-null  int64  \n",
      " 7   Parch        100000 non-null  int64  \n",
      " 8   Ticket       95377 non-null   object \n",
      " 9   Fare         99866 non-null   float64\n",
      " 10  Cabin        32134 non-null   object \n",
      " 11  Embarked     99750 non-null   object \n",
      "dtypes: float64(2), int64(5), object(5)\n",
      "memory usage: 9.2+ MB\n"
     ]
    }
   ],
   "source": [
    "train_data.info()"
   ]
  },
  {
   "cell_type": "code",
   "execution_count": 132,
   "id": "83ff946d",
   "metadata": {},
   "outputs": [
    {
     "data": {
      "text/plain": [
       "PassengerId    0\n",
       "Survived       0\n",
       "Pclass         0\n",
       "Name           0\n",
       "Sex            0\n",
       "Age            0\n",
       "SibSp          0\n",
       "Parch          0\n",
       "Ticket         0\n",
       "Fare           0\n",
       "Cabin          0\n",
       "Embarked       0\n",
       "dtype: int64"
      ]
     },
     "execution_count": 132,
     "metadata": {},
     "output_type": "execute_result"
    }
   ],
   "source": [
    "# удаляем неполные данные\n",
    "test = train_data.copy()\n",
    "test = test.dropna(axis=0, how='any')\n",
    "pd.isna(test).sum()"
   ]
  },
  {
   "cell_type": "code",
   "execution_count": 133,
   "id": "cf446dd9",
   "metadata": {},
   "outputs": [
    {
     "name": "stdout",
     "output_type": "stream",
     "text": [
      "<class 'pandas.core.frame.DataFrame'>\n",
      "Int64Index: 30881 entries, 8 to 99995\n",
      "Data columns (total 12 columns):\n",
      " #   Column       Non-Null Count  Dtype  \n",
      "---  ------       --------------  -----  \n",
      " 0   PassengerId  30881 non-null  int64  \n",
      " 1   Survived     30881 non-null  int64  \n",
      " 2   Pclass       30881 non-null  int64  \n",
      " 3   Name         30881 non-null  object \n",
      " 4   Sex          30881 non-null  object \n",
      " 5   Age          30881 non-null  float64\n",
      " 6   SibSp        30881 non-null  int64  \n",
      " 7   Parch        30881 non-null  int64  \n",
      " 8   Ticket       30881 non-null  object \n",
      " 9   Fare         30881 non-null  float64\n",
      " 10  Cabin        30881 non-null  object \n",
      " 11  Embarked     30881 non-null  object \n",
      "dtypes: float64(2), int64(5), object(5)\n",
      "memory usage: 3.1+ MB\n"
     ]
    }
   ],
   "source": [
    "test.info()"
   ]
  },
  {
   "cell_type": "code",
   "execution_count": 134,
   "id": "ba7622ab",
   "metadata": {},
   "outputs": [],
   "source": [
    "# удаляем дубликаты, если они есть\n",
    "test = test.drop_duplicates(subset=['Name','Ticket'], keep='first', inplace=False, ignore_index=False)"
   ]
  },
  {
   "cell_type": "markdown",
   "id": "bd009ab2",
   "metadata": {},
   "source": [
    "Проверим содержимое столбцов"
   ]
  },
  {
   "cell_type": "code",
   "execution_count": 135,
   "id": "d5294191",
   "metadata": {},
   "outputs": [
    {
     "data": {
      "text/plain": [
       "{0, 1}"
      ]
     },
     "execution_count": 135,
     "metadata": {},
     "output_type": "execute_result"
    }
   ],
   "source": [
    "set(test['Survived'].values)"
   ]
  },
  {
   "cell_type": "code",
   "execution_count": 136,
   "id": "26def022",
   "metadata": {},
   "outputs": [
    {
     "data": {
      "text/plain": [
       "{1, 2, 3}"
      ]
     },
     "execution_count": 136,
     "metadata": {},
     "output_type": "execute_result"
    }
   ],
   "source": [
    "set(test['Pclass'].values)"
   ]
  },
  {
   "cell_type": "code",
   "execution_count": 137,
   "id": "61f27908",
   "metadata": {},
   "outputs": [
    {
     "data": {
      "text/plain": [
       "{'female', 'male'}"
      ]
     },
     "execution_count": 137,
     "metadata": {},
     "output_type": "execute_result"
    }
   ],
   "source": [
    "set(test['Sex'].values)"
   ]
  },
  {
   "cell_type": "code",
   "execution_count": 138,
   "id": "33614607",
   "metadata": {},
   "outputs": [],
   "source": [
    "#print(sorted(set(test['Age'].values)))"
   ]
  },
  {
   "cell_type": "code",
   "execution_count": 139,
   "id": "fcb7d0d1",
   "metadata": {},
   "outputs": [],
   "source": [
    "#set(test['SibSp'].values)"
   ]
  },
  {
   "cell_type": "code",
   "execution_count": 140,
   "id": "baeaadd2",
   "metadata": {},
   "outputs": [],
   "source": [
    "#print(set(test['Cabin'].values))"
   ]
  },
  {
   "cell_type": "code",
   "execution_count": 150,
   "id": "531543bc",
   "metadata": {},
   "outputs": [
    {
     "name": "stdout",
     "output_type": "stream",
     "text": [
      "{'C', 'Q', 'S'}\n"
     ]
    }
   ],
   "source": [
    "print(set(test['Embarked'].values))"
   ]
  },
  {
   "cell_type": "code",
   "execution_count": 141,
   "id": "9c43013b",
   "metadata": {},
   "outputs": [
    {
     "data": {
      "text/plain": [
       "Name\n",
       "Smith, John         8\n",
       "Smith, James        8\n",
       "Williams, Mary      7\n",
       "Smith, Mary         6\n",
       "Moore, David        6\n",
       "                   ..\n",
       "Gordon, Marie       1\n",
       "Gordon, Margaret    1\n",
       "Gordon, Keith       1\n",
       "Gordon, Karl        1\n",
       "Zych, Maria         1\n",
       "Name: Ticket, Length: 29965, dtype: int64"
      ]
     },
     "execution_count": 141,
     "metadata": {},
     "output_type": "execute_result"
    }
   ],
   "source": [
    "test.groupby(by='Name')['Ticket'].count().sort_values(ascending=False)"
   ]
  },
  {
   "cell_type": "code",
   "execution_count": 142,
   "id": "02d16774",
   "metadata": {},
   "outputs": [
    {
     "data": {
      "text/html": [
       "<div>\n",
       "<style scoped>\n",
       "    .dataframe tbody tr th:only-of-type {\n",
       "        vertical-align: middle;\n",
       "    }\n",
       "\n",
       "    .dataframe tbody tr th {\n",
       "        vertical-align: top;\n",
       "    }\n",
       "\n",
       "    .dataframe thead th {\n",
       "        text-align: right;\n",
       "    }\n",
       "</style>\n",
       "<table border=\"1\" class=\"dataframe\">\n",
       "  <thead>\n",
       "    <tr style=\"text-align: right;\">\n",
       "      <th></th>\n",
       "      <th>PassengerId</th>\n",
       "      <th>Survived</th>\n",
       "      <th>Pclass</th>\n",
       "      <th>Name</th>\n",
       "      <th>Sex</th>\n",
       "      <th>Age</th>\n",
       "      <th>SibSp</th>\n",
       "      <th>Parch</th>\n",
       "      <th>Ticket</th>\n",
       "      <th>Fare</th>\n",
       "      <th>Cabin</th>\n",
       "      <th>Embarked</th>\n",
       "    </tr>\n",
       "  </thead>\n",
       "  <tbody>\n",
       "    <tr>\n",
       "      <th>20855</th>\n",
       "      <td>20855</td>\n",
       "      <td>0</td>\n",
       "      <td>1</td>\n",
       "      <td>Smith, John</td>\n",
       "      <td>male</td>\n",
       "      <td>59.0</td>\n",
       "      <td>0</td>\n",
       "      <td>2</td>\n",
       "      <td>356053</td>\n",
       "      <td>82.67</td>\n",
       "      <td>A9998</td>\n",
       "      <td>S</td>\n",
       "    </tr>\n",
       "    <tr>\n",
       "      <th>35173</th>\n",
       "      <td>35173</td>\n",
       "      <td>0</td>\n",
       "      <td>1</td>\n",
       "      <td>Smith, John</td>\n",
       "      <td>male</td>\n",
       "      <td>36.0</td>\n",
       "      <td>0</td>\n",
       "      <td>3</td>\n",
       "      <td>467643</td>\n",
       "      <td>72.04</td>\n",
       "      <td>C13666</td>\n",
       "      <td>S</td>\n",
       "    </tr>\n",
       "    <tr>\n",
       "      <th>39793</th>\n",
       "      <td>39793</td>\n",
       "      <td>0</td>\n",
       "      <td>1</td>\n",
       "      <td>Smith, John</td>\n",
       "      <td>male</td>\n",
       "      <td>42.0</td>\n",
       "      <td>1</td>\n",
       "      <td>0</td>\n",
       "      <td>196726</td>\n",
       "      <td>142.59</td>\n",
       "      <td>A5807</td>\n",
       "      <td>C</td>\n",
       "    </tr>\n",
       "    <tr>\n",
       "      <th>40548</th>\n",
       "      <td>40548</td>\n",
       "      <td>0</td>\n",
       "      <td>1</td>\n",
       "      <td>Smith, John</td>\n",
       "      <td>male</td>\n",
       "      <td>47.0</td>\n",
       "      <td>0</td>\n",
       "      <td>0</td>\n",
       "      <td>424247</td>\n",
       "      <td>200.30</td>\n",
       "      <td>C4811</td>\n",
       "      <td>C</td>\n",
       "    </tr>\n",
       "    <tr>\n",
       "      <th>56345</th>\n",
       "      <td>56345</td>\n",
       "      <td>1</td>\n",
       "      <td>1</td>\n",
       "      <td>Smith, John</td>\n",
       "      <td>male</td>\n",
       "      <td>49.0</td>\n",
       "      <td>0</td>\n",
       "      <td>0</td>\n",
       "      <td>PC 26841</td>\n",
       "      <td>215.16</td>\n",
       "      <td>B4955</td>\n",
       "      <td>C</td>\n",
       "    </tr>\n",
       "    <tr>\n",
       "      <th>58294</th>\n",
       "      <td>58294</td>\n",
       "      <td>0</td>\n",
       "      <td>1</td>\n",
       "      <td>Smith, John</td>\n",
       "      <td>male</td>\n",
       "      <td>38.0</td>\n",
       "      <td>0</td>\n",
       "      <td>0</td>\n",
       "      <td>185657</td>\n",
       "      <td>227.90</td>\n",
       "      <td>C22302</td>\n",
       "      <td>C</td>\n",
       "    </tr>\n",
       "    <tr>\n",
       "      <th>93274</th>\n",
       "      <td>93274</td>\n",
       "      <td>0</td>\n",
       "      <td>1</td>\n",
       "      <td>Smith, John</td>\n",
       "      <td>male</td>\n",
       "      <td>42.0</td>\n",
       "      <td>1</td>\n",
       "      <td>1</td>\n",
       "      <td>46625</td>\n",
       "      <td>64.16</td>\n",
       "      <td>A17159</td>\n",
       "      <td>S</td>\n",
       "    </tr>\n",
       "    <tr>\n",
       "      <th>98006</th>\n",
       "      <td>98006</td>\n",
       "      <td>0</td>\n",
       "      <td>3</td>\n",
       "      <td>Smith, John</td>\n",
       "      <td>male</td>\n",
       "      <td>3.0</td>\n",
       "      <td>0</td>\n",
       "      <td>0</td>\n",
       "      <td>SOTON/O2 326669</td>\n",
       "      <td>29.64</td>\n",
       "      <td>A19702</td>\n",
       "      <td>S</td>\n",
       "    </tr>\n",
       "  </tbody>\n",
       "</table>\n",
       "</div>"
      ],
      "text/plain": [
       "       PassengerId  Survived  Pclass         Name   Sex   Age  SibSp  Parch  \\\n",
       "20855        20855         0       1  Smith, John  male  59.0      0      2   \n",
       "35173        35173         0       1  Smith, John  male  36.0      0      3   \n",
       "39793        39793         0       1  Smith, John  male  42.0      1      0   \n",
       "40548        40548         0       1  Smith, John  male  47.0      0      0   \n",
       "56345        56345         1       1  Smith, John  male  49.0      0      0   \n",
       "58294        58294         0       1  Smith, John  male  38.0      0      0   \n",
       "93274        93274         0       1  Smith, John  male  42.0      1      1   \n",
       "98006        98006         0       3  Smith, John  male   3.0      0      0   \n",
       "\n",
       "                Ticket    Fare   Cabin Embarked  \n",
       "20855           356053   82.67   A9998        S  \n",
       "35173           467643   72.04  C13666        S  \n",
       "39793           196726  142.59   A5807        C  \n",
       "40548           424247  200.30   C4811        C  \n",
       "56345         PC 26841  215.16   B4955        C  \n",
       "58294           185657  227.90  C22302        C  \n",
       "93274            46625   64.16  A17159        S  \n",
       "98006  SOTON/O2 326669   29.64  A19702        S  "
      ]
     },
     "execution_count": 142,
     "metadata": {},
     "output_type": "execute_result"
    }
   ],
   "source": [
    "test[test['Name'] == \"Smith, John\"]"
   ]
  },
  {
   "cell_type": "code",
   "execution_count": 143,
   "id": "8fbcf87d",
   "metadata": {},
   "outputs": [
    {
     "data": {
      "text/plain": [
       "Ticket\n",
       "PC           7\n",
       "28380        5\n",
       "26616        5\n",
       "20851        5\n",
       "25926        5\n",
       "            ..\n",
       "32686        1\n",
       "326840       1\n",
       "326781       1\n",
       "32672        1\n",
       "WE/P 7741    1\n",
       "Name: Name, Length: 27951, dtype: int64"
      ]
     },
     "execution_count": 143,
     "metadata": {},
     "output_type": "execute_result"
    }
   ],
   "source": [
    "test.groupby(by='Ticket')['Name'].count().sort_values(ascending=False)"
   ]
  },
  {
   "cell_type": "code",
   "execution_count": 144,
   "id": "cf517ab0",
   "metadata": {},
   "outputs": [
    {
     "data": {
      "text/html": [
       "<div>\n",
       "<style scoped>\n",
       "    .dataframe tbody tr th:only-of-type {\n",
       "        vertical-align: middle;\n",
       "    }\n",
       "\n",
       "    .dataframe tbody tr th {\n",
       "        vertical-align: top;\n",
       "    }\n",
       "\n",
       "    .dataframe thead th {\n",
       "        text-align: right;\n",
       "    }\n",
       "</style>\n",
       "<table border=\"1\" class=\"dataframe\">\n",
       "  <thead>\n",
       "    <tr style=\"text-align: right;\">\n",
       "      <th></th>\n",
       "      <th>PassengerId</th>\n",
       "      <th>Survived</th>\n",
       "      <th>Pclass</th>\n",
       "      <th>Name</th>\n",
       "      <th>Sex</th>\n",
       "      <th>Age</th>\n",
       "      <th>SibSp</th>\n",
       "      <th>Parch</th>\n",
       "      <th>Ticket</th>\n",
       "      <th>Fare</th>\n",
       "      <th>Cabin</th>\n",
       "      <th>Embarked</th>\n",
       "    </tr>\n",
       "  </thead>\n",
       "  <tbody>\n",
       "    <tr>\n",
       "      <th>9021</th>\n",
       "      <td>9021</td>\n",
       "      <td>0</td>\n",
       "      <td>1</td>\n",
       "      <td>Thompson, Jay</td>\n",
       "      <td>male</td>\n",
       "      <td>20.0</td>\n",
       "      <td>0</td>\n",
       "      <td>0</td>\n",
       "      <td>28380</td>\n",
       "      <td>198.92</td>\n",
       "      <td>A16263</td>\n",
       "      <td>S</td>\n",
       "    </tr>\n",
       "    <tr>\n",
       "      <th>14845</th>\n",
       "      <td>14845</td>\n",
       "      <td>0</td>\n",
       "      <td>3</td>\n",
       "      <td>Alicea, William</td>\n",
       "      <td>male</td>\n",
       "      <td>32.0</td>\n",
       "      <td>0</td>\n",
       "      <td>0</td>\n",
       "      <td>28380</td>\n",
       "      <td>26.23</td>\n",
       "      <td>E4266</td>\n",
       "      <td>S</td>\n",
       "    </tr>\n",
       "    <tr>\n",
       "      <th>44543</th>\n",
       "      <td>44543</td>\n",
       "      <td>0</td>\n",
       "      <td>1</td>\n",
       "      <td>Hunter, Joel</td>\n",
       "      <td>male</td>\n",
       "      <td>25.0</td>\n",
       "      <td>0</td>\n",
       "      <td>0</td>\n",
       "      <td>28380</td>\n",
       "      <td>58.38</td>\n",
       "      <td>C17566</td>\n",
       "      <td>Q</td>\n",
       "    </tr>\n",
       "    <tr>\n",
       "      <th>50019</th>\n",
       "      <td>50019</td>\n",
       "      <td>1</td>\n",
       "      <td>3</td>\n",
       "      <td>Morgan, Alice</td>\n",
       "      <td>female</td>\n",
       "      <td>33.0</td>\n",
       "      <td>0</td>\n",
       "      <td>1</td>\n",
       "      <td>28380</td>\n",
       "      <td>56.25</td>\n",
       "      <td>D4793</td>\n",
       "      <td>C</td>\n",
       "    </tr>\n",
       "    <tr>\n",
       "      <th>67177</th>\n",
       "      <td>67177</td>\n",
       "      <td>0</td>\n",
       "      <td>1</td>\n",
       "      <td>Ross, Glenda</td>\n",
       "      <td>female</td>\n",
       "      <td>57.0</td>\n",
       "      <td>0</td>\n",
       "      <td>1</td>\n",
       "      <td>28380</td>\n",
       "      <td>32.90</td>\n",
       "      <td>D11036</td>\n",
       "      <td>C</td>\n",
       "    </tr>\n",
       "  </tbody>\n",
       "</table>\n",
       "</div>"
      ],
      "text/plain": [
       "       PassengerId  Survived  Pclass             Name     Sex   Age  SibSp  \\\n",
       "9021          9021         0       1    Thompson, Jay    male  20.0      0   \n",
       "14845        14845         0       3  Alicea, William    male  32.0      0   \n",
       "44543        44543         0       1     Hunter, Joel    male  25.0      0   \n",
       "50019        50019         1       3    Morgan, Alice  female  33.0      0   \n",
       "67177        67177         0       1     Ross, Glenda  female  57.0      0   \n",
       "\n",
       "       Parch Ticket    Fare   Cabin Embarked  \n",
       "9021       0  28380  198.92  A16263        S  \n",
       "14845      0  28380   26.23   E4266        S  \n",
       "44543      0  28380   58.38  C17566        Q  \n",
       "50019      1  28380   56.25   D4793        C  \n",
       "67177      1  28380   32.90  D11036        C  "
      ]
     },
     "execution_count": 144,
     "metadata": {},
     "output_type": "execute_result"
    }
   ],
   "source": [
    "test[test['Ticket'] == \"28380\"]"
   ]
  },
  {
   "cell_type": "markdown",
   "id": "07aadabc",
   "metadata": {},
   "source": [
    "По одному билету скорее всего не могло быть столько пассажиров, поэтому удалим дубликаты по билету"
   ]
  },
  {
   "cell_type": "code",
   "execution_count": 145,
   "id": "3c99cadd",
   "metadata": {},
   "outputs": [],
   "source": [
    "test = test.drop_duplicates(subset=['Ticket'], keep='first', inplace=False, ignore_index=False)"
   ]
  },
  {
   "cell_type": "code",
   "execution_count": 146,
   "id": "d43bda3b",
   "metadata": {},
   "outputs": [
    {
     "data": {
      "text/plain": [
       "(27951, 12)"
      ]
     },
     "execution_count": 146,
     "metadata": {},
     "output_type": "execute_result"
    }
   ],
   "source": [
    "test.shape"
   ]
  },
  {
   "cell_type": "code",
   "execution_count": 147,
   "id": "24d97616",
   "metadata": {},
   "outputs": [
    {
     "data": {
      "text/html": [
       "<div>\n",
       "<style scoped>\n",
       "    .dataframe tbody tr th:only-of-type {\n",
       "        vertical-align: middle;\n",
       "    }\n",
       "\n",
       "    .dataframe tbody tr th {\n",
       "        vertical-align: top;\n",
       "    }\n",
       "\n",
       "    .dataframe thead th {\n",
       "        text-align: right;\n",
       "    }\n",
       "</style>\n",
       "<table border=\"1\" class=\"dataframe\">\n",
       "  <thead>\n",
       "    <tr style=\"text-align: right;\">\n",
       "      <th></th>\n",
       "      <th>PassengerId</th>\n",
       "      <th>Survived</th>\n",
       "      <th>Pclass</th>\n",
       "      <th>Name</th>\n",
       "      <th>Sex</th>\n",
       "      <th>Age</th>\n",
       "      <th>SibSp</th>\n",
       "      <th>Parch</th>\n",
       "      <th>Ticket</th>\n",
       "      <th>Fare</th>\n",
       "      <th>Cabin</th>\n",
       "      <th>Embarked</th>\n",
       "    </tr>\n",
       "  </thead>\n",
       "  <tbody>\n",
       "    <tr>\n",
       "      <th>8</th>\n",
       "      <td>8</td>\n",
       "      <td>0</td>\n",
       "      <td>1</td>\n",
       "      <td>Wardlaw, Michael</td>\n",
       "      <td>male</td>\n",
       "      <td>27.0</td>\n",
       "      <td>2</td>\n",
       "      <td>1</td>\n",
       "      <td>474849</td>\n",
       "      <td>73.02</td>\n",
       "      <td>A7253</td>\n",
       "      <td>S</td>\n",
       "    </tr>\n",
       "    <tr>\n",
       "      <th>9</th>\n",
       "      <td>9</td>\n",
       "      <td>0</td>\n",
       "      <td>2</td>\n",
       "      <td>Greigo, Rudy</td>\n",
       "      <td>male</td>\n",
       "      <td>66.0</td>\n",
       "      <td>0</td>\n",
       "      <td>0</td>\n",
       "      <td>6981</td>\n",
       "      <td>9.14</td>\n",
       "      <td>D2969</td>\n",
       "      <td>C</td>\n",
       "    </tr>\n",
       "    <tr>\n",
       "      <th>11</th>\n",
       "      <td>11</td>\n",
       "      <td>0</td>\n",
       "      <td>1</td>\n",
       "      <td>Telschow, Robert</td>\n",
       "      <td>male</td>\n",
       "      <td>60.0</td>\n",
       "      <td>0</td>\n",
       "      <td>0</td>\n",
       "      <td>19600</td>\n",
       "      <td>31.50</td>\n",
       "      <td>A9055</td>\n",
       "      <td>S</td>\n",
       "    </tr>\n",
       "    <tr>\n",
       "      <th>12</th>\n",
       "      <td>12</td>\n",
       "      <td>0</td>\n",
       "      <td>3</td>\n",
       "      <td>Stewart, Pat</td>\n",
       "      <td>male</td>\n",
       "      <td>36.0</td>\n",
       "      <td>0</td>\n",
       "      <td>0</td>\n",
       "      <td>434108</td>\n",
       "      <td>9.34</td>\n",
       "      <td>C8674</td>\n",
       "      <td>S</td>\n",
       "    </tr>\n",
       "    <tr>\n",
       "      <th>14</th>\n",
       "      <td>14</td>\n",
       "      <td>1</td>\n",
       "      <td>1</td>\n",
       "      <td>Seaton, Karen</td>\n",
       "      <td>female</td>\n",
       "      <td>44.0</td>\n",
       "      <td>0</td>\n",
       "      <td>1</td>\n",
       "      <td>12425</td>\n",
       "      <td>28.40</td>\n",
       "      <td>D6945</td>\n",
       "      <td>C</td>\n",
       "    </tr>\n",
       "  </tbody>\n",
       "</table>\n",
       "</div>"
      ],
      "text/plain": [
       "    PassengerId  Survived  Pclass              Name     Sex   Age  SibSp  \\\n",
       "8             8         0       1  Wardlaw, Michael    male  27.0      2   \n",
       "9             9         0       2      Greigo, Rudy    male  66.0      0   \n",
       "11           11         0       1  Telschow, Robert    male  60.0      0   \n",
       "12           12         0       3      Stewart, Pat    male  36.0      0   \n",
       "14           14         1       1     Seaton, Karen  female  44.0      0   \n",
       "\n",
       "    Parch  Ticket   Fare  Cabin Embarked  \n",
       "8       1  474849  73.02  A7253        S  \n",
       "9       0    6981   9.14  D2969        C  \n",
       "11      0   19600  31.50  A9055        S  \n",
       "12      0  434108   9.34  C8674        S  \n",
       "14      1   12425  28.40  D6945        C  "
      ]
     },
     "execution_count": 147,
     "metadata": {},
     "output_type": "execute_result"
    }
   ],
   "source": [
    "test.head()"
   ]
  },
  {
   "cell_type": "code",
   "execution_count": 148,
   "id": "e71e40e3",
   "metadata": {},
   "outputs": [],
   "source": [
    "# преобразование данных в графе \"Возраст\"\n",
    "test['Age'] = test['Age'].map(lambda x: int(x))"
   ]
  },
  {
   "cell_type": "code",
   "execution_count": 149,
   "id": "e3473908",
   "metadata": {},
   "outputs": [
    {
     "data": {
      "text/html": [
       "<div>\n",
       "<style scoped>\n",
       "    .dataframe tbody tr th:only-of-type {\n",
       "        vertical-align: middle;\n",
       "    }\n",
       "\n",
       "    .dataframe tbody tr th {\n",
       "        vertical-align: top;\n",
       "    }\n",
       "\n",
       "    .dataframe thead th {\n",
       "        text-align: right;\n",
       "    }\n",
       "</style>\n",
       "<table border=\"1\" class=\"dataframe\">\n",
       "  <thead>\n",
       "    <tr style=\"text-align: right;\">\n",
       "      <th></th>\n",
       "      <th>PassengerId</th>\n",
       "      <th>Survived</th>\n",
       "      <th>Pclass</th>\n",
       "      <th>Name</th>\n",
       "      <th>Sex</th>\n",
       "      <th>Age</th>\n",
       "      <th>SibSp</th>\n",
       "      <th>Parch</th>\n",
       "      <th>Ticket</th>\n",
       "      <th>Fare</th>\n",
       "      <th>Cabin</th>\n",
       "      <th>Embarked</th>\n",
       "    </tr>\n",
       "  </thead>\n",
       "  <tbody>\n",
       "    <tr>\n",
       "      <th>8</th>\n",
       "      <td>8</td>\n",
       "      <td>0</td>\n",
       "      <td>1</td>\n",
       "      <td>Wardlaw, Michael</td>\n",
       "      <td>male</td>\n",
       "      <td>27</td>\n",
       "      <td>2</td>\n",
       "      <td>1</td>\n",
       "      <td>474849</td>\n",
       "      <td>73.02</td>\n",
       "      <td>A7253</td>\n",
       "      <td>S</td>\n",
       "    </tr>\n",
       "    <tr>\n",
       "      <th>9</th>\n",
       "      <td>9</td>\n",
       "      <td>0</td>\n",
       "      <td>2</td>\n",
       "      <td>Greigo, Rudy</td>\n",
       "      <td>male</td>\n",
       "      <td>66</td>\n",
       "      <td>0</td>\n",
       "      <td>0</td>\n",
       "      <td>6981</td>\n",
       "      <td>9.14</td>\n",
       "      <td>D2969</td>\n",
       "      <td>C</td>\n",
       "    </tr>\n",
       "    <tr>\n",
       "      <th>11</th>\n",
       "      <td>11</td>\n",
       "      <td>0</td>\n",
       "      <td>1</td>\n",
       "      <td>Telschow, Robert</td>\n",
       "      <td>male</td>\n",
       "      <td>60</td>\n",
       "      <td>0</td>\n",
       "      <td>0</td>\n",
       "      <td>19600</td>\n",
       "      <td>31.50</td>\n",
       "      <td>A9055</td>\n",
       "      <td>S</td>\n",
       "    </tr>\n",
       "    <tr>\n",
       "      <th>12</th>\n",
       "      <td>12</td>\n",
       "      <td>0</td>\n",
       "      <td>3</td>\n",
       "      <td>Stewart, Pat</td>\n",
       "      <td>male</td>\n",
       "      <td>36</td>\n",
       "      <td>0</td>\n",
       "      <td>0</td>\n",
       "      <td>434108</td>\n",
       "      <td>9.34</td>\n",
       "      <td>C8674</td>\n",
       "      <td>S</td>\n",
       "    </tr>\n",
       "    <tr>\n",
       "      <th>14</th>\n",
       "      <td>14</td>\n",
       "      <td>1</td>\n",
       "      <td>1</td>\n",
       "      <td>Seaton, Karen</td>\n",
       "      <td>female</td>\n",
       "      <td>44</td>\n",
       "      <td>0</td>\n",
       "      <td>1</td>\n",
       "      <td>12425</td>\n",
       "      <td>28.40</td>\n",
       "      <td>D6945</td>\n",
       "      <td>C</td>\n",
       "    </tr>\n",
       "  </tbody>\n",
       "</table>\n",
       "</div>"
      ],
      "text/plain": [
       "    PassengerId  Survived  Pclass              Name     Sex  Age  SibSp  \\\n",
       "8             8         0       1  Wardlaw, Michael    male   27      2   \n",
       "9             9         0       2      Greigo, Rudy    male   66      0   \n",
       "11           11         0       1  Telschow, Robert    male   60      0   \n",
       "12           12         0       3      Stewart, Pat    male   36      0   \n",
       "14           14         1       1     Seaton, Karen  female   44      0   \n",
       "\n",
       "    Parch  Ticket   Fare  Cabin Embarked  \n",
       "8       1  474849  73.02  A7253        S  \n",
       "9       0    6981   9.14  D2969        C  \n",
       "11      0   19600  31.50  A9055        S  \n",
       "12      0  434108   9.34  C8674        S  \n",
       "14      1   12425  28.40  D6945        C  "
      ]
     },
     "execution_count": 149,
     "metadata": {},
     "output_type": "execute_result"
    }
   ],
   "source": [
    "test.head()"
   ]
  },
  {
   "cell_type": "markdown",
   "id": "f3280170",
   "metadata": {},
   "source": [
    "Вопрос: как отделить команду от пассажиров? остается открытым"
   ]
  },
  {
   "cell_type": "markdown",
   "id": "5408eca5",
   "metadata": {},
   "source": [
    "# Data exploration"
   ]
  },
  {
   "cell_type": "code",
   "execution_count": 152,
   "id": "2417286d",
   "metadata": {},
   "outputs": [
    {
     "data": {
      "text/plain": [
       "Survived\n",
       "0    11008\n",
       "1    16943\n",
       "Name: PassengerId, dtype: int64"
      ]
     },
     "execution_count": 152,
     "metadata": {},
     "output_type": "execute_result"
    }
   ],
   "source": [
    "# распрелеление выживших\n",
    "test.groupby(by='Survived')['PassengerId'].count()"
   ]
  },
  {
   "cell_type": "code",
   "execution_count": 170,
   "id": "9d43796a",
   "metadata": {},
   "outputs": [
    {
     "data": {
      "text/plain": [
       "Text(0.5, 0, 'Lost / Survived')"
      ]
     },
     "execution_count": 170,
     "metadata": {},
     "output_type": "execute_result"
    },
    {
     "data": {
      "image/png": "[encoded data removed]",
      "text/plain": [
       "<Figure size 432x288 with 1 Axes>"
      ]
     },
     "metadata": {
      "needs_background": "light"
     },
     "output_type": "display_data"
    }
   ],
   "source": [
    "plt.title(\"Distribution of survived\")\n",
    "\n",
    "plt.hist(test.Survived, bins=2, rwidth=0.8,  label='Survived')\n",
    "plt.xlabel('Lost / Survived')\n"
   ]
  },
  {
   "cell_type": "code",
   "execution_count": 162,
   "id": "22a67032",
   "metadata": {},
   "outputs": [
    {
     "data": {
      "text/plain": [
       "Survived  Pclass\n",
       "0         1          8905\n",
       "          2           972\n",
       "          3          1131\n",
       "1         1         14120\n",
       "          2          2101\n",
       "          3           722\n",
       "Name: PassengerId, dtype: int64"
      ]
     },
     "execution_count": 162,
     "metadata": {},
     "output_type": "execute_result"
    }
   ],
   "source": [
    "# выжившие по классам\n",
    "test.groupby(by=['Survived','Pclass'])['PassengerId'].count()"
   ]
  },
  {
   "cell_type": "code",
   "execution_count": 164,
   "id": "3ff85ecd",
   "metadata": {},
   "outputs": [
    {
     "data": {
      "text/plain": [
       "Survived  Sex   \n",
       "0         female     3524\n",
       "          male       7484\n",
       "1         female    12253\n",
       "          male       4690\n",
       "Name: PassengerId, dtype: int64"
      ]
     },
     "execution_count": 164,
     "metadata": {},
     "output_type": "execute_result"
    }
   ],
   "source": [
    "# выжившие по полу\n",
    "test.groupby(by=['Survived','Sex'])['PassengerId'].count()"
   ]
  },
  {
   "cell_type": "code",
   "execution_count": 166,
   "id": "9b00132b",
   "metadata": {},
   "outputs": [
    {
     "data": {
      "text/plain": [
       "<matplotlib.legend.Legend at 0x182beeb9bb0>"
      ]
     },
     "execution_count": 166,
     "metadata": {},
     "output_type": "execute_result"
    },
    {
     "data": {
      "image/png": "[encoded data removed]",
      "text/plain": [
       "<Figure size 432x288 with 1 Axes>"
      ]
     },
     "metadata": {
      "needs_background": "light"
     },
     "output_type": "display_data"
    }
   ],
   "source": [
    "plt.hist(test.Sex, bins=2, rwidth=0.8, stacked=True, label='Survived')\n",
    "plt.hist(test[test.Survived == 1].Sex, bins=2,rwidth = 0.8, label='Drowned')\n",
    "plt.legend()"
   ]
  },
  {
   "cell_type": "code",
   "execution_count": 165,
   "id": "48643b30",
   "metadata": {},
   "outputs": [
    {
     "data": {
      "text/plain": [
       "Survived  Pclass  Sex   \n",
       "0         1       female     2958\n",
       "                  male       5947\n",
       "          2       female      324\n",
       "                  male        648\n",
       "          3       female      242\n",
       "                  male        889\n",
       "1         1       female    10008\n",
       "                  male       4112\n",
       "          2       female     1730\n",
       "                  male        371\n",
       "          3       female      515\n",
       "                  male        207\n",
       "Name: PassengerId, dtype: int64"
      ]
     },
     "execution_count": 165,
     "metadata": {},
     "output_type": "execute_result"
    }
   ],
   "source": [
    "# выжившие по классам\n",
    "test.groupby(by=['Survived','Pclass','Sex'])['PassengerId'].count()"
   ]
  },
  {
   "cell_type": "markdown",
   "id": "034945c8",
   "metadata": {},
   "source": [
    "# Summary"
   ]
  },
  {
   "cell_type": "code",
   "execution_count": null,
   "id": "72e3fb13",
   "metadata": {},
   "outputs": [],
   "source": []
  }
 ],
 "metadata": {
  "kernelspec": {
   "display_name": "Python 3 (ipykernel)",
   "language": "python",
   "name": "python3"
  },
  "language_info": {
   "codemirror_mode": {
    "name": "ipython",
    "version": 3
   },
   "file_extension": ".py",
   "mimetype": "text/x-python",
   "name": "python",
   "nbconvert_exporter": "python",
   "pygments_lexer": "ipython3",
   "version": "3.9.7"
  },
  "toc": {
   "base_numbering": 1,
   "nav_menu": {},
   "number_sections": true,
   "sideBar": true,
   "skip_h1_title": false,
   "title_cell": "Table of Contents",
   "title_sidebar": "Contents",
   "toc_cell": false,
   "toc_position": {},
   "toc_section_display": true,
   "toc_window_display": false
  }
 },
 "nbformat": 4,
 "nbformat_minor": 5
}
