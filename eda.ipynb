{
 "cells": [
  {
   "cell_type": "code",
   "execution_count": 125,
   "id": "b489cb9e",
   "metadata": {},
   "outputs": [],
   "source": [
    "import pandas as pd\n",
    "pd.plotting.register_matplotlib_converters()\n",
    "import matplotlib.pyplot as plt\n",
    "%matplotlib inline\n",
    "import numpy as np"
   ]
  },
  {
   "cell_type": "code",
   "execution_count": 126,
   "id": "353d0d85",
   "metadata": {},
   "outputs": [],
   "source": [
    "train_data = pd.read_csv(\"train.csv\")"
   ]
  },
  {
   "cell_type": "code",
   "execution_count": 127,
   "id": "d0e9cfd6",
   "metadata": {},
   "outputs": [
    {
     "data": {
      "text/html": [
       "<div>\n",
       "<style scoped>\n",
       "    .dataframe tbody tr th:only-of-type {\n",
       "        vertical-align: middle;\n",
       "    }\n",
       "\n",
       "    .dataframe tbody tr th {\n",
       "        vertical-align: top;\n",
       "    }\n",
       "\n",
       "    .dataframe thead th {\n",
       "        text-align: right;\n",
       "    }\n",
       "</style>\n",
       "<table border=\"1\" class=\"dataframe\">\n",
       "  <thead>\n",
       "    <tr style=\"text-align: right;\">\n",
       "      <th></th>\n",
       "      <th>PassengerId</th>\n",
       "      <th>Survived</th>\n",
       "      <th>Pclass</th>\n",
       "      <th>Name</th>\n",
       "      <th>Sex</th>\n",
       "      <th>Age</th>\n",
       "      <th>SibSp</th>\n",
       "      <th>Parch</th>\n",
       "      <th>Ticket</th>\n",
       "      <th>Fare</th>\n",
       "      <th>Cabin</th>\n",
       "      <th>Embarked</th>\n",
       "    </tr>\n",
       "  </thead>\n",
       "  <tbody>\n",
       "    <tr>\n",
       "      <th>0</th>\n",
       "      <td>0</td>\n",
       "      <td>1</td>\n",
       "      <td>1</td>\n",
       "      <td>Oconnor, Frankie</td>\n",
       "      <td>male</td>\n",
       "      <td>NaN</td>\n",
       "      <td>2</td>\n",
       "      <td>0</td>\n",
       "      <td>209245</td>\n",
       "      <td>27.14</td>\n",
       "      <td>C12239</td>\n",
       "      <td>S</td>\n",
       "    </tr>\n",
       "    <tr>\n",
       "      <th>1</th>\n",
       "      <td>1</td>\n",
       "      <td>0</td>\n",
       "      <td>3</td>\n",
       "      <td>Bryan, Drew</td>\n",
       "      <td>male</td>\n",
       "      <td>NaN</td>\n",
       "      <td>0</td>\n",
       "      <td>0</td>\n",
       "      <td>27323</td>\n",
       "      <td>13.35</td>\n",
       "      <td>NaN</td>\n",
       "      <td>S</td>\n",
       "    </tr>\n",
       "    <tr>\n",
       "      <th>2</th>\n",
       "      <td>2</td>\n",
       "      <td>0</td>\n",
       "      <td>3</td>\n",
       "      <td>Owens, Kenneth</td>\n",
       "      <td>male</td>\n",
       "      <td>0.33</td>\n",
       "      <td>1</td>\n",
       "      <td>2</td>\n",
       "      <td>CA 457703</td>\n",
       "      <td>71.29</td>\n",
       "      <td>NaN</td>\n",
       "      <td>S</td>\n",
       "    </tr>\n",
       "    <tr>\n",
       "      <th>3</th>\n",
       "      <td>3</td>\n",
       "      <td>0</td>\n",
       "      <td>3</td>\n",
       "      <td>Kramer, James</td>\n",
       "      <td>male</td>\n",
       "      <td>19.00</td>\n",
       "      <td>0</td>\n",
       "      <td>0</td>\n",
       "      <td>A. 10866</td>\n",
       "      <td>13.04</td>\n",
       "      <td>NaN</td>\n",
       "      <td>S</td>\n",
       "    </tr>\n",
       "    <tr>\n",
       "      <th>4</th>\n",
       "      <td>4</td>\n",
       "      <td>1</td>\n",
       "      <td>3</td>\n",
       "      <td>Bond, Michael</td>\n",
       "      <td>male</td>\n",
       "      <td>25.00</td>\n",
       "      <td>0</td>\n",
       "      <td>0</td>\n",
       "      <td>427635</td>\n",
       "      <td>7.76</td>\n",
       "      <td>NaN</td>\n",
       "      <td>S</td>\n",
       "    </tr>\n",
       "  </tbody>\n",
       "</table>\n",
       "</div>"
      ],
      "text/plain": [
       "   PassengerId  Survived  Pclass              Name   Sex    Age  SibSp  Parch  \\\n",
       "0            0         1       1  Oconnor, Frankie  male    NaN      2      0   \n",
       "1            1         0       3       Bryan, Drew  male    NaN      0      0   \n",
       "2            2         0       3    Owens, Kenneth  male   0.33      1      2   \n",
       "3            3         0       3     Kramer, James  male  19.00      0      0   \n",
       "4            4         1       3     Bond, Michael  male  25.00      0      0   \n",
       "\n",
       "      Ticket   Fare   Cabin Embarked  \n",
       "0     209245  27.14  C12239        S  \n",
       "1      27323  13.35     NaN        S  \n",
       "2  CA 457703  71.29     NaN        S  \n",
       "3   A. 10866  13.04     NaN        S  \n",
       "4     427635   7.76     NaN        S  "
      ]
     },
     "execution_count": 127,
     "metadata": {},
     "output_type": "execute_result"
    }
   ],
   "source": [
    "train_data.head()"
   ]
  },
  {
   "cell_type": "code",
   "execution_count": 128,
   "id": "e635aa4f",
   "metadata": {},
   "outputs": [
    {
     "data": {
      "text/plain": [
       "(100000, 12)"
      ]
     },
     "execution_count": 128,
     "metadata": {},
     "output_type": "execute_result"
    }
   ],
   "source": [
    "train_data.shape"
   ]
  },
  {
   "cell_type": "code",
   "execution_count": 129,
   "id": "3afec9c6",
   "metadata": {},
   "outputs": [
    {
     "data": {
      "text/html": [
       "<div>\n",
       "<style scoped>\n",
       "    .dataframe tbody tr th:only-of-type {\n",
       "        vertical-align: middle;\n",
       "    }\n",
       "\n",
       "    .dataframe tbody tr th {\n",
       "        vertical-align: top;\n",
       "    }\n",
       "\n",
       "    .dataframe thead th {\n",
       "        text-align: right;\n",
       "    }\n",
       "</style>\n",
       "<table border=\"1\" class=\"dataframe\">\n",
       "  <thead>\n",
       "    <tr style=\"text-align: right;\">\n",
       "      <th></th>\n",
       "      <th>PassengerId</th>\n",
       "      <th>Survived</th>\n",
       "      <th>Pclass</th>\n",
       "      <th>Name</th>\n",
       "      <th>Sex</th>\n",
       "      <th>Age</th>\n",
       "      <th>SibSp</th>\n",
       "      <th>Parch</th>\n",
       "      <th>Ticket</th>\n",
       "      <th>Fare</th>\n",
       "      <th>Cabin</th>\n",
       "      <th>Embarked</th>\n",
       "    </tr>\n",
       "  </thead>\n",
       "  <tbody>\n",
       "    <tr>\n",
       "      <th>2</th>\n",
       "      <td>2</td>\n",
       "      <td>0</td>\n",
       "      <td>3</td>\n",
       "      <td>Owens, Kenneth</td>\n",
       "      <td>male</td>\n",
       "      <td>0.33</td>\n",
       "      <td>1</td>\n",
       "      <td>2</td>\n",
       "      <td>CA 457703</td>\n",
       "      <td>71.29</td>\n",
       "      <td>NaN</td>\n",
       "      <td>S</td>\n",
       "    </tr>\n",
       "    <tr>\n",
       "      <th>215</th>\n",
       "      <td>215</td>\n",
       "      <td>0</td>\n",
       "      <td>1</td>\n",
       "      <td>Partida, William</td>\n",
       "      <td>male</td>\n",
       "      <td>0.83</td>\n",
       "      <td>1</td>\n",
       "      <td>0</td>\n",
       "      <td>27228</td>\n",
       "      <td>10.53</td>\n",
       "      <td>NaN</td>\n",
       "      <td>S</td>\n",
       "    </tr>\n",
       "    <tr>\n",
       "      <th>228</th>\n",
       "      <td>228</td>\n",
       "      <td>1</td>\n",
       "      <td>3</td>\n",
       "      <td>Kabel, Rosa</td>\n",
       "      <td>female</td>\n",
       "      <td>0.50</td>\n",
       "      <td>1</td>\n",
       "      <td>2</td>\n",
       "      <td>201054</td>\n",
       "      <td>33.92</td>\n",
       "      <td>NaN</td>\n",
       "      <td>S</td>\n",
       "    </tr>\n",
       "    <tr>\n",
       "      <th>415</th>\n",
       "      <td>415</td>\n",
       "      <td>1</td>\n",
       "      <td>2</td>\n",
       "      <td>Blakey, Sandra</td>\n",
       "      <td>female</td>\n",
       "      <td>0.75</td>\n",
       "      <td>1</td>\n",
       "      <td>2</td>\n",
       "      <td>439368</td>\n",
       "      <td>34.37</td>\n",
       "      <td>NaN</td>\n",
       "      <td>S</td>\n",
       "    </tr>\n",
       "    <tr>\n",
       "      <th>444</th>\n",
       "      <td>444</td>\n",
       "      <td>1</td>\n",
       "      <td>1</td>\n",
       "      <td>Winterbottom, Velma</td>\n",
       "      <td>female</td>\n",
       "      <td>0.50</td>\n",
       "      <td>1</td>\n",
       "      <td>1</td>\n",
       "      <td>347054</td>\n",
       "      <td>32.83</td>\n",
       "      <td>C4421</td>\n",
       "      <td>S</td>\n",
       "    </tr>\n",
       "    <tr>\n",
       "      <th>...</th>\n",
       "      <td>...</td>\n",
       "      <td>...</td>\n",
       "      <td>...</td>\n",
       "      <td>...</td>\n",
       "      <td>...</td>\n",
       "      <td>...</td>\n",
       "      <td>...</td>\n",
       "      <td>...</td>\n",
       "      <td>...</td>\n",
       "      <td>...</td>\n",
       "      <td>...</td>\n",
       "      <td>...</td>\n",
       "    </tr>\n",
       "    <tr>\n",
       "      <th>99307</th>\n",
       "      <td>99307</td>\n",
       "      <td>1</td>\n",
       "      <td>2</td>\n",
       "      <td>Keyser, William</td>\n",
       "      <td>male</td>\n",
       "      <td>0.25</td>\n",
       "      <td>0</td>\n",
       "      <td>1</td>\n",
       "      <td>21907</td>\n",
       "      <td>71.57</td>\n",
       "      <td>NaN</td>\n",
       "      <td>S</td>\n",
       "    </tr>\n",
       "    <tr>\n",
       "      <th>99527</th>\n",
       "      <td>99527</td>\n",
       "      <td>0</td>\n",
       "      <td>3</td>\n",
       "      <td>Lawrence, Barry</td>\n",
       "      <td>male</td>\n",
       "      <td>0.92</td>\n",
       "      <td>1</td>\n",
       "      <td>1</td>\n",
       "      <td>439308</td>\n",
       "      <td>8.45</td>\n",
       "      <td>NaN</td>\n",
       "      <td>S</td>\n",
       "    </tr>\n",
       "    <tr>\n",
       "      <th>99601</th>\n",
       "      <td>99601</td>\n",
       "      <td>0</td>\n",
       "      <td>3</td>\n",
       "      <td>Smith, Roxanne</td>\n",
       "      <td>female</td>\n",
       "      <td>0.17</td>\n",
       "      <td>1</td>\n",
       "      <td>2</td>\n",
       "      <td>435887</td>\n",
       "      <td>67.06</td>\n",
       "      <td>NaN</td>\n",
       "      <td>C</td>\n",
       "    </tr>\n",
       "    <tr>\n",
       "      <th>99839</th>\n",
       "      <td>99839</td>\n",
       "      <td>1</td>\n",
       "      <td>3</td>\n",
       "      <td>Lewis, Jeffrey</td>\n",
       "      <td>male</td>\n",
       "      <td>0.83</td>\n",
       "      <td>1</td>\n",
       "      <td>1</td>\n",
       "      <td>14319</td>\n",
       "      <td>13.95</td>\n",
       "      <td>NaN</td>\n",
       "      <td>C</td>\n",
       "    </tr>\n",
       "    <tr>\n",
       "      <th>99888</th>\n",
       "      <td>99888</td>\n",
       "      <td>0</td>\n",
       "      <td>3</td>\n",
       "      <td>Franklin, Donald</td>\n",
       "      <td>male</td>\n",
       "      <td>0.50</td>\n",
       "      <td>2</td>\n",
       "      <td>1</td>\n",
       "      <td>12460</td>\n",
       "      <td>27.79</td>\n",
       "      <td>NaN</td>\n",
       "      <td>S</td>\n",
       "    </tr>\n",
       "  </tbody>\n",
       "</table>\n",
       "<p>642 rows × 12 columns</p>\n",
       "</div>"
      ],
      "text/plain": [
       "       PassengerId  Survived  Pclass                 Name     Sex   Age  \\\n",
       "2                2         0       3       Owens, Kenneth    male  0.33   \n",
       "215            215         0       1     Partida, William    male  0.83   \n",
       "228            228         1       3          Kabel, Rosa  female  0.50   \n",
       "415            415         1       2       Blakey, Sandra  female  0.75   \n",
       "444            444         1       1  Winterbottom, Velma  female  0.50   \n",
       "...            ...       ...     ...                  ...     ...   ...   \n",
       "99307        99307         1       2      Keyser, William    male  0.25   \n",
       "99527        99527         0       3      Lawrence, Barry    male  0.92   \n",
       "99601        99601         0       3       Smith, Roxanne  female  0.17   \n",
       "99839        99839         1       3       Lewis, Jeffrey    male  0.83   \n",
       "99888        99888         0       3     Franklin, Donald    male  0.50   \n",
       "\n",
       "       SibSp  Parch     Ticket   Fare  Cabin Embarked  \n",
       "2          1      2  CA 457703  71.29    NaN        S  \n",
       "215        1      0      27228  10.53    NaN        S  \n",
       "228        1      2     201054  33.92    NaN        S  \n",
       "415        1      2     439368  34.37    NaN        S  \n",
       "444        1      1     347054  32.83  C4421        S  \n",
       "...      ...    ...        ...    ...    ...      ...  \n",
       "99307      0      1      21907  71.57    NaN        S  \n",
       "99527      1      1     439308   8.45    NaN        S  \n",
       "99601      1      2     435887  67.06    NaN        C  \n",
       "99839      1      1      14319  13.95    NaN        C  \n",
       "99888      2      1      12460  27.79    NaN        S  \n",
       "\n",
       "[642 rows x 12 columns]"
      ]
     },
     "execution_count": 129,
     "metadata": {},
     "output_type": "execute_result"
    }
   ],
   "source": [
    "train_data[train_data['Age'] < 1]"
   ]
  },
  {
   "cell_type": "markdown",
   "id": "d07912a0",
   "metadata": {},
   "source": [
    "# Context"
   ]
  },
  {
   "cell_type": "markdown",
   "id": "3cb853e0",
   "metadata": {},
   "source": [
    "The dataset contains information about passengers of Titanic. \n",
    "\n",
    "Labels to note:\n",
    "\n",
    "Survived - survival (0 = No; 1 = Yes)\n",
    "\n",
    "Pclass - passenger class (1 = 1st; 2 = 2nd; 3 = 3rd)\n",
    "\n",
    "Name - name\n",
    "\n",
    "Sex - sex\n",
    "\n",
    "Age - age\n",
    "\n",
    "SibSp - number of siblings/spouses aboard\n",
    "\n",
    "Parch - number of parents/children aboard\n",
    "\n",
    "Ticket - ticket number\n",
    "\n",
    "Fare - passenger fare\n",
    "\n",
    "Cabin - cabin\n",
    "\n",
    "Embarked - port of embarkation (C = Cherbourg; Q = Queenstown; S = Southampton)"
   ]
  },
  {
   "cell_type": "markdown",
   "id": "9b4320c6",
   "metadata": {},
   "source": [
    "# Data quality assessment"
   ]
  },
  {
   "cell_type": "code",
   "execution_count": 131,
   "id": "e443ca82",
   "metadata": {},
   "outputs": [
    {
     "name": "stdout",
     "output_type": "stream",
     "text": [
      "<class 'pandas.core.frame.DataFrame'>\n",
      "RangeIndex: 100000 entries, 0 to 99999\n",
      "Data columns (total 12 columns):\n",
      " #   Column       Non-Null Count   Dtype  \n",
      "---  ------       --------------   -----  \n",
      " 0   PassengerId  100000 non-null  int64  \n",
      " 1   Survived     100000 non-null  int64  \n",
      " 2   Pclass       100000 non-null  int64  \n",
      " 3   Name         100000 non-null  object \n",
      " 4   Sex          100000 non-null  object \n",
      " 5   Age          96708 non-null   float64\n",
      " 6   SibSp        100000 non-null  int64  \n",
      " 7   Parch        100000 non-null  int64  \n",
      " 8   Ticket       95377 non-null   object \n",
      " 9   Fare         99866 non-null   float64\n",
      " 10  Cabin        32134 non-null   object \n",
      " 11  Embarked     99750 non-null   object \n",
      "dtypes: float64(2), int64(5), object(5)\n",
      "memory usage: 9.2+ MB\n"
     ]
    }
   ],
   "source": [
    "train_data.info()"
   ]
  },
  {
   "cell_type": "code",
   "execution_count": 183,
   "id": "5ecad272",
   "metadata": {},
   "outputs": [
    {
     "data": {
      "text/plain": [
       "PassengerId        0\n",
       "Survived           0\n",
       "Pclass             0\n",
       "Name               0\n",
       "Sex                0\n",
       "Age             3136\n",
       "SibSp              0\n",
       "Parch              0\n",
       "Ticket             0\n",
       "Fare             128\n",
       "Cabin          63326\n",
       "Embarked         241\n",
       "dtype: int64"
      ]
     },
     "execution_count": 183,
     "metadata": {},
     "output_type": "execute_result"
    }
   ],
   "source": [
    "# удаляем неполные данные по билетам\n",
    "test = train_data.copy()\n",
    "test = test.dropna(axis=0, how='any', subset=['Ticket'])\n",
    "pd.isna(test).sum()"
   ]
  },
  {
   "cell_type": "code",
   "execution_count": 184,
   "id": "f654d9f1",
   "metadata": {},
   "outputs": [
    {
     "name": "stdout",
     "output_type": "stream",
     "text": [
      "<class 'pandas.core.frame.DataFrame'>\n",
      "Int64Index: 95377 entries, 0 to 99999\n",
      "Data columns (total 12 columns):\n",
      " #   Column       Non-Null Count  Dtype  \n",
      "---  ------       --------------  -----  \n",
      " 0   PassengerId  95377 non-null  int64  \n",
      " 1   Survived     95377 non-null  int64  \n",
      " 2   Pclass       95377 non-null  int64  \n",
      " 3   Name         95377 non-null  object \n",
      " 4   Sex          95377 non-null  object \n",
      " 5   Age          92241 non-null  float64\n",
      " 6   SibSp        95377 non-null  int64  \n",
      " 7   Parch        95377 non-null  int64  \n",
      " 8   Ticket       95377 non-null  object \n",
      " 9   Fare         95249 non-null  float64\n",
      " 10  Cabin        32051 non-null  object \n",
      " 11  Embarked     95136 non-null  object \n",
      "dtypes: float64(2), int64(5), object(5)\n",
      "memory usage: 9.5+ MB\n"
     ]
    }
   ],
   "source": [
    "test.info()"
   ]
  },
  {
   "cell_type": "code",
   "execution_count": 185,
   "id": "3b8d7494",
   "metadata": {},
   "outputs": [],
   "source": [
    "# удаляем дубликаты, если они есть\n",
    "test = test.drop_duplicates(subset=['Name','Ticket'], keep='first', inplace=False, ignore_index=False)"
   ]
  },
  {
   "cell_type": "markdown",
   "id": "ff79a3ea",
   "metadata": {},
   "source": [
    "Проверим содержимое столбцов"
   ]
  },
  {
   "cell_type": "code",
   "execution_count": 186,
   "id": "ee19d2a2",
   "metadata": {},
   "outputs": [
    {
     "data": {
      "text/plain": [
       "{0, 1}"
      ]
     },
     "execution_count": 186,
     "metadata": {},
     "output_type": "execute_result"
    }
   ],
   "source": [
    "set(test['Survived'].values)"
   ]
  },
  {
   "cell_type": "code",
   "execution_count": 187,
   "id": "a4780de0",
   "metadata": {},
   "outputs": [
    {
     "data": {
      "text/plain": [
       "{1, 2, 3}"
      ]
     },
     "execution_count": 187,
     "metadata": {},
     "output_type": "execute_result"
    }
   ],
   "source": [
    "set(test['Pclass'].values)"
   ]
  },
  {
   "cell_type": "code",
   "execution_count": 188,
   "id": "5399edfc",
   "metadata": {},
   "outputs": [
    {
     "data": {
      "text/plain": [
       "{'female', 'male'}"
      ]
     },
     "execution_count": 188,
     "metadata": {},
     "output_type": "execute_result"
    }
   ],
   "source": [
    "set(test['Sex'].values)"
   ]
  },
  {
   "cell_type": "code",
   "execution_count": 138,
   "id": "da169a25",
   "metadata": {},
   "outputs": [],
   "source": [
    "#print(sorted(set(test['Age'].values)))"
   ]
  },
  {
   "cell_type": "code",
   "execution_count": 139,
   "id": "bf030f2a",
   "metadata": {},
   "outputs": [],
   "source": [
    "#set(test['SibSp'].values)"
   ]
  },
  {
   "cell_type": "code",
   "execution_count": 140,
   "id": "bc6da004",
   "metadata": {},
   "outputs": [],
   "source": [
    "#print(set(test['Cabin'].values))"
   ]
  },
  {
   "cell_type": "code",
   "execution_count": 189,
   "id": "02e16103",
   "metadata": {},
   "outputs": [
    {
     "name": "stdout",
     "output_type": "stream",
     "text": [
      "{nan, 'C', 'Q', 'S'}\n"
     ]
    }
   ],
   "source": [
    "print(set(test['Embarked'].values))"
   ]
  },
  {
   "cell_type": "code",
   "execution_count": 190,
   "id": "727c3d71",
   "metadata": {},
   "outputs": [
    {
     "data": {
      "text/plain": [
       "Name\n",
       "Johnson, John       30\n",
       "Smith, John         24\n",
       "Smith, James        23\n",
       "Johnson, William    20\n",
       "Jones, James        19\n",
       "                    ..\n",
       "Gould, Keith         1\n",
       "Gould, Jennifer      1\n",
       "Gould, Cindy         1\n",
       "Gould, Brandon       1\n",
       "Zywiec, Rebecca      1\n",
       "Name: Ticket, Length: 88072, dtype: int64"
      ]
     },
     "execution_count": 190,
     "metadata": {},
     "output_type": "execute_result"
    }
   ],
   "source": [
    "test.groupby(by='Name')['Ticket'].count().sort_values(ascending=False)"
   ]
  },
  {
   "cell_type": "code",
   "execution_count": 192,
   "id": "77a0a8f9",
   "metadata": {},
   "outputs": [
    {
     "data": {
      "text/plain": [
       "Ticket\n",
       "A/5            602\n",
       "C.A.           177\n",
       "SC/PARIS       145\n",
       "SOTON/O.Q.      80\n",
       "SC              57\n",
       "              ... \n",
       "402718           1\n",
       "4027198          1\n",
       "4027354          1\n",
       "4027412          1\n",
       "WE/P 9779        1\n",
       "Name: Name, Length: 75331, dtype: int64"
      ]
     },
     "execution_count": 192,
     "metadata": {},
     "output_type": "execute_result"
    }
   ],
   "source": [
    "test.groupby(by='Ticket')['Name'].count().sort_values(ascending=False)"
   ]
  },
  {
   "cell_type": "code",
   "execution_count": 193,
   "id": "9d49dfe0",
   "metadata": {},
   "outputs": [
    {
     "data": {
      "text/html": [
       "<div>\n",
       "<style scoped>\n",
       "    .dataframe tbody tr th:only-of-type {\n",
       "        vertical-align: middle;\n",
       "    }\n",
       "\n",
       "    .dataframe tbody tr th {\n",
       "        vertical-align: top;\n",
       "    }\n",
       "\n",
       "    .dataframe thead th {\n",
       "        text-align: right;\n",
       "    }\n",
       "</style>\n",
       "<table border=\"1\" class=\"dataframe\">\n",
       "  <thead>\n",
       "    <tr style=\"text-align: right;\">\n",
       "      <th></th>\n",
       "      <th>PassengerId</th>\n",
       "      <th>Survived</th>\n",
       "      <th>Pclass</th>\n",
       "      <th>Name</th>\n",
       "      <th>Sex</th>\n",
       "      <th>Age</th>\n",
       "      <th>SibSp</th>\n",
       "      <th>Parch</th>\n",
       "      <th>Ticket</th>\n",
       "      <th>Fare</th>\n",
       "      <th>Cabin</th>\n",
       "      <th>Embarked</th>\n",
       "    </tr>\n",
       "  </thead>\n",
       "  <tbody>\n",
       "    <tr>\n",
       "      <th>9021</th>\n",
       "      <td>9021</td>\n",
       "      <td>0</td>\n",
       "      <td>1</td>\n",
       "      <td>Thompson, Jay</td>\n",
       "      <td>male</td>\n",
       "      <td>20.0</td>\n",
       "      <td>0</td>\n",
       "      <td>0</td>\n",
       "      <td>28380</td>\n",
       "      <td>198.92</td>\n",
       "      <td>A16263</td>\n",
       "      <td>S</td>\n",
       "    </tr>\n",
       "    <tr>\n",
       "      <th>14845</th>\n",
       "      <td>14845</td>\n",
       "      <td>0</td>\n",
       "      <td>3</td>\n",
       "      <td>Alicea, William</td>\n",
       "      <td>male</td>\n",
       "      <td>32.0</td>\n",
       "      <td>0</td>\n",
       "      <td>0</td>\n",
       "      <td>28380</td>\n",
       "      <td>26.23</td>\n",
       "      <td>E4266</td>\n",
       "      <td>S</td>\n",
       "    </tr>\n",
       "    <tr>\n",
       "      <th>44543</th>\n",
       "      <td>44543</td>\n",
       "      <td>0</td>\n",
       "      <td>1</td>\n",
       "      <td>Hunter, Joel</td>\n",
       "      <td>male</td>\n",
       "      <td>25.0</td>\n",
       "      <td>0</td>\n",
       "      <td>0</td>\n",
       "      <td>28380</td>\n",
       "      <td>58.38</td>\n",
       "      <td>C17566</td>\n",
       "      <td>Q</td>\n",
       "    </tr>\n",
       "    <tr>\n",
       "      <th>50019</th>\n",
       "      <td>50019</td>\n",
       "      <td>1</td>\n",
       "      <td>3</td>\n",
       "      <td>Morgan, Alice</td>\n",
       "      <td>female</td>\n",
       "      <td>33.0</td>\n",
       "      <td>0</td>\n",
       "      <td>1</td>\n",
       "      <td>28380</td>\n",
       "      <td>56.25</td>\n",
       "      <td>D4793</td>\n",
       "      <td>C</td>\n",
       "    </tr>\n",
       "    <tr>\n",
       "      <th>67177</th>\n",
       "      <td>67177</td>\n",
       "      <td>0</td>\n",
       "      <td>1</td>\n",
       "      <td>Ross, Glenda</td>\n",
       "      <td>female</td>\n",
       "      <td>57.0</td>\n",
       "      <td>0</td>\n",
       "      <td>1</td>\n",
       "      <td>28380</td>\n",
       "      <td>32.90</td>\n",
       "      <td>D11036</td>\n",
       "      <td>C</td>\n",
       "    </tr>\n",
       "    <tr>\n",
       "      <th>98810</th>\n",
       "      <td>98810</td>\n",
       "      <td>0</td>\n",
       "      <td>3</td>\n",
       "      <td>Stone, Patrick</td>\n",
       "      <td>male</td>\n",
       "      <td>38.0</td>\n",
       "      <td>0</td>\n",
       "      <td>0</td>\n",
       "      <td>28380</td>\n",
       "      <td>29.59</td>\n",
       "      <td>NaN</td>\n",
       "      <td>S</td>\n",
       "    </tr>\n",
       "  </tbody>\n",
       "</table>\n",
       "</div>"
      ],
      "text/plain": [
       "       PassengerId  Survived  Pclass             Name     Sex   Age  SibSp  \\\n",
       "9021          9021         0       1    Thompson, Jay    male  20.0      0   \n",
       "14845        14845         0       3  Alicea, William    male  32.0      0   \n",
       "44543        44543         0       1     Hunter, Joel    male  25.0      0   \n",
       "50019        50019         1       3    Morgan, Alice  female  33.0      0   \n",
       "67177        67177         0       1     Ross, Glenda  female  57.0      0   \n",
       "98810        98810         0       3   Stone, Patrick    male  38.0      0   \n",
       "\n",
       "       Parch Ticket    Fare   Cabin Embarked  \n",
       "9021       0  28380  198.92  A16263        S  \n",
       "14845      0  28380   26.23   E4266        S  \n",
       "44543      0  28380   58.38  C17566        Q  \n",
       "50019      1  28380   56.25   D4793        C  \n",
       "67177      1  28380   32.90  D11036        C  \n",
       "98810      0  28380   29.59     NaN        S  "
      ]
     },
     "execution_count": 193,
     "metadata": {},
     "output_type": "execute_result"
    }
   ],
   "source": [
    "test[test['Ticket'] == \"28380\"]"
   ]
  },
  {
   "cell_type": "markdown",
   "id": "79bc2e4e",
   "metadata": {},
   "source": [
    "По одному билету скорее всего не могло быть столько пассажиров, поэтому удалим дубликаты по билету"
   ]
  },
  {
   "cell_type": "code",
   "execution_count": 194,
   "id": "dcaa3845",
   "metadata": {},
   "outputs": [],
   "source": [
    "test = test.drop_duplicates(subset=['Ticket'], keep='first', inplace=False, ignore_index=False)"
   ]
  },
  {
   "cell_type": "code",
   "execution_count": 195,
   "id": "bf3dda4c",
   "metadata": {},
   "outputs": [
    {
     "data": {
      "text/plain": [
       "(75331, 12)"
      ]
     },
     "execution_count": 195,
     "metadata": {},
     "output_type": "execute_result"
    }
   ],
   "source": [
    "test.shape"
   ]
  },
  {
   "cell_type": "code",
   "execution_count": 200,
   "id": "30741687",
   "metadata": {},
   "outputs": [],
   "source": [
    "# удаляем неполные данные по возрасту\n",
    "test = test.dropna(axis=0, how='any', subset=['Age'])"
   ]
  },
  {
   "cell_type": "code",
   "execution_count": 201,
   "id": "51a91f7c",
   "metadata": {},
   "outputs": [
    {
     "data": {
      "text/html": [
       "<div>\n",
       "<style scoped>\n",
       "    .dataframe tbody tr th:only-of-type {\n",
       "        vertical-align: middle;\n",
       "    }\n",
       "\n",
       "    .dataframe tbody tr th {\n",
       "        vertical-align: top;\n",
       "    }\n",
       "\n",
       "    .dataframe thead th {\n",
       "        text-align: right;\n",
       "    }\n",
       "</style>\n",
       "<table border=\"1\" class=\"dataframe\">\n",
       "  <thead>\n",
       "    <tr style=\"text-align: right;\">\n",
       "      <th></th>\n",
       "      <th>PassengerId</th>\n",
       "      <th>Survived</th>\n",
       "      <th>Pclass</th>\n",
       "      <th>Name</th>\n",
       "      <th>Sex</th>\n",
       "      <th>Age</th>\n",
       "      <th>SibSp</th>\n",
       "      <th>Parch</th>\n",
       "      <th>Ticket</th>\n",
       "      <th>Fare</th>\n",
       "      <th>Cabin</th>\n",
       "      <th>Embarked</th>\n",
       "    </tr>\n",
       "  </thead>\n",
       "  <tbody>\n",
       "    <tr>\n",
       "      <th>2</th>\n",
       "      <td>2</td>\n",
       "      <td>0</td>\n",
       "      <td>3</td>\n",
       "      <td>Owens, Kenneth</td>\n",
       "      <td>male</td>\n",
       "      <td>0.33</td>\n",
       "      <td>1</td>\n",
       "      <td>2</td>\n",
       "      <td>CA 457703</td>\n",
       "      <td>71.29</td>\n",
       "      <td>NaN</td>\n",
       "      <td>S</td>\n",
       "    </tr>\n",
       "    <tr>\n",
       "      <th>3</th>\n",
       "      <td>3</td>\n",
       "      <td>0</td>\n",
       "      <td>3</td>\n",
       "      <td>Kramer, James</td>\n",
       "      <td>male</td>\n",
       "      <td>19.00</td>\n",
       "      <td>0</td>\n",
       "      <td>0</td>\n",
       "      <td>A. 10866</td>\n",
       "      <td>13.04</td>\n",
       "      <td>NaN</td>\n",
       "      <td>S</td>\n",
       "    </tr>\n",
       "    <tr>\n",
       "      <th>4</th>\n",
       "      <td>4</td>\n",
       "      <td>1</td>\n",
       "      <td>3</td>\n",
       "      <td>Bond, Michael</td>\n",
       "      <td>male</td>\n",
       "      <td>25.00</td>\n",
       "      <td>0</td>\n",
       "      <td>0</td>\n",
       "      <td>427635</td>\n",
       "      <td>7.76</td>\n",
       "      <td>NaN</td>\n",
       "      <td>S</td>\n",
       "    </tr>\n",
       "    <tr>\n",
       "      <th>5</th>\n",
       "      <td>5</td>\n",
       "      <td>0</td>\n",
       "      <td>2</td>\n",
       "      <td>Sassano, Jonathan</td>\n",
       "      <td>male</td>\n",
       "      <td>35.00</td>\n",
       "      <td>0</td>\n",
       "      <td>0</td>\n",
       "      <td>13363</td>\n",
       "      <td>6.71</td>\n",
       "      <td>NaN</td>\n",
       "      <td>S</td>\n",
       "    </tr>\n",
       "    <tr>\n",
       "      <th>6</th>\n",
       "      <td>6</td>\n",
       "      <td>0</td>\n",
       "      <td>3</td>\n",
       "      <td>Conway, Jose</td>\n",
       "      <td>male</td>\n",
       "      <td>7.00</td>\n",
       "      <td>0</td>\n",
       "      <td>0</td>\n",
       "      <td>A/5</td>\n",
       "      <td>9.77</td>\n",
       "      <td>NaN</td>\n",
       "      <td>S</td>\n",
       "    </tr>\n",
       "  </tbody>\n",
       "</table>\n",
       "</div>"
      ],
      "text/plain": [
       "   PassengerId  Survived  Pclass               Name   Sex    Age  SibSp  \\\n",
       "2            2         0       3     Owens, Kenneth  male   0.33      1   \n",
       "3            3         0       3      Kramer, James  male  19.00      0   \n",
       "4            4         1       3      Bond, Michael  male  25.00      0   \n",
       "5            5         0       2  Sassano, Jonathan  male  35.00      0   \n",
       "6            6         0       3       Conway, Jose  male   7.00      0   \n",
       "\n",
       "   Parch     Ticket   Fare Cabin Embarked  \n",
       "2      2  CA 457703  71.29   NaN        S  \n",
       "3      0   A. 10866  13.04   NaN        S  \n",
       "4      0     427635   7.76   NaN        S  \n",
       "5      0      13363   6.71   NaN        S  \n",
       "6      0       A/5    9.77   NaN        S  "
      ]
     },
     "execution_count": 201,
     "metadata": {},
     "output_type": "execute_result"
    }
   ],
   "source": [
    "test.head()"
   ]
  },
  {
   "cell_type": "code",
   "execution_count": 202,
   "id": "df9e6ba3",
   "metadata": {},
   "outputs": [],
   "source": [
    "# преобразование данных в графе \"Возраст\"\n",
    "test['Age'] = test['Age'].map(lambda x: int(x))"
   ]
  },
  {
   "cell_type": "code",
   "execution_count": 203,
   "id": "67fec1fe",
   "metadata": {},
   "outputs": [
    {
     "data": {
      "text/html": [
       "<div>\n",
       "<style scoped>\n",
       "    .dataframe tbody tr th:only-of-type {\n",
       "        vertical-align: middle;\n",
       "    }\n",
       "\n",
       "    .dataframe tbody tr th {\n",
       "        vertical-align: top;\n",
       "    }\n",
       "\n",
       "    .dataframe thead th {\n",
       "        text-align: right;\n",
       "    }\n",
       "</style>\n",
       "<table border=\"1\" class=\"dataframe\">\n",
       "  <thead>\n",
       "    <tr style=\"text-align: right;\">\n",
       "      <th></th>\n",
       "      <th>PassengerId</th>\n",
       "      <th>Survived</th>\n",
       "      <th>Pclass</th>\n",
       "      <th>Name</th>\n",
       "      <th>Sex</th>\n",
       "      <th>Age</th>\n",
       "      <th>SibSp</th>\n",
       "      <th>Parch</th>\n",
       "      <th>Ticket</th>\n",
       "      <th>Fare</th>\n",
       "      <th>Cabin</th>\n",
       "      <th>Embarked</th>\n",
       "    </tr>\n",
       "  </thead>\n",
       "  <tbody>\n",
       "    <tr>\n",
       "      <th>2</th>\n",
       "      <td>2</td>\n",
       "      <td>0</td>\n",
       "      <td>3</td>\n",
       "      <td>Owens, Kenneth</td>\n",
       "      <td>male</td>\n",
       "      <td>0</td>\n",
       "      <td>1</td>\n",
       "      <td>2</td>\n",
       "      <td>CA 457703</td>\n",
       "      <td>71.29</td>\n",
       "      <td>NaN</td>\n",
       "      <td>S</td>\n",
       "    </tr>\n",
       "    <tr>\n",
       "      <th>3</th>\n",
       "      <td>3</td>\n",
       "      <td>0</td>\n",
       "      <td>3</td>\n",
       "      <td>Kramer, James</td>\n",
       "      <td>male</td>\n",
       "      <td>19</td>\n",
       "      <td>0</td>\n",
       "      <td>0</td>\n",
       "      <td>A. 10866</td>\n",
       "      <td>13.04</td>\n",
       "      <td>NaN</td>\n",
       "      <td>S</td>\n",
       "    </tr>\n",
       "    <tr>\n",
       "      <th>4</th>\n",
       "      <td>4</td>\n",
       "      <td>1</td>\n",
       "      <td>3</td>\n",
       "      <td>Bond, Michael</td>\n",
       "      <td>male</td>\n",
       "      <td>25</td>\n",
       "      <td>0</td>\n",
       "      <td>0</td>\n",
       "      <td>427635</td>\n",
       "      <td>7.76</td>\n",
       "      <td>NaN</td>\n",
       "      <td>S</td>\n",
       "    </tr>\n",
       "    <tr>\n",
       "      <th>5</th>\n",
       "      <td>5</td>\n",
       "      <td>0</td>\n",
       "      <td>2</td>\n",
       "      <td>Sassano, Jonathan</td>\n",
       "      <td>male</td>\n",
       "      <td>35</td>\n",
       "      <td>0</td>\n",
       "      <td>0</td>\n",
       "      <td>13363</td>\n",
       "      <td>6.71</td>\n",
       "      <td>NaN</td>\n",
       "      <td>S</td>\n",
       "    </tr>\n",
       "    <tr>\n",
       "      <th>6</th>\n",
       "      <td>6</td>\n",
       "      <td>0</td>\n",
       "      <td>3</td>\n",
       "      <td>Conway, Jose</td>\n",
       "      <td>male</td>\n",
       "      <td>7</td>\n",
       "      <td>0</td>\n",
       "      <td>0</td>\n",
       "      <td>A/5</td>\n",
       "      <td>9.77</td>\n",
       "      <td>NaN</td>\n",
       "      <td>S</td>\n",
       "    </tr>\n",
       "  </tbody>\n",
       "</table>\n",
       "</div>"
      ],
      "text/plain": [
       "   PassengerId  Survived  Pclass               Name   Sex  Age  SibSp  Parch  \\\n",
       "2            2         0       3     Owens, Kenneth  male    0      1      2   \n",
       "3            3         0       3      Kramer, James  male   19      0      0   \n",
       "4            4         1       3      Bond, Michael  male   25      0      0   \n",
       "5            5         0       2  Sassano, Jonathan  male   35      0      0   \n",
       "6            6         0       3       Conway, Jose  male    7      0      0   \n",
       "\n",
       "      Ticket   Fare Cabin Embarked  \n",
       "2  CA 457703  71.29   NaN        S  \n",
       "3   A. 10866  13.04   NaN        S  \n",
       "4     427635   7.76   NaN        S  \n",
       "5      13363   6.71   NaN        S  \n",
       "6       A/5    9.77   NaN        S  "
      ]
     },
     "execution_count": 203,
     "metadata": {},
     "output_type": "execute_result"
    }
   ],
   "source": [
    "test.head()"
   ]
  },
  {
   "cell_type": "markdown",
   "id": "27543227",
   "metadata": {},
   "source": [
    "Вопрос: как отделить команду от пассажиров? остается открытым"
   ]
  },
  {
   "cell_type": "markdown",
   "id": "5408eca5",
   "metadata": {},
   "source": [
    "# Data exploration"
   ]
  },
  {
   "cell_type": "code",
   "execution_count": 204,
   "id": "2417286d",
   "metadata": {},
   "outputs": [
    {
     "data": {
      "text/plain": [
       "Survived\n",
       "0    42186\n",
       "1    30667\n",
       "Name: PassengerId, dtype: int64"
      ]
     },
     "execution_count": 204,
     "metadata": {},
     "output_type": "execute_result"
    }
   ],
   "source": [
    "# распрелеление выживших\n",
    "test.groupby(by='Survived')['PassengerId'].count()"
   ]
  },
  {
   "cell_type": "code",
   "execution_count": 205,
   "id": "68712215",
   "metadata": {},
   "outputs": [
    {
     "data": {
      "text/plain": [
       "Text(0.5, 0, 'Lost / Survived')"
      ]
     },
     "execution_count": 205,
     "metadata": {},
     "output_type": "execute_result"
    },
    {
     "data": {
      "image/png": "[encoded data removed]",
      "text/plain": [
       "<Figure size 432x288 with 1 Axes>"
      ]
     },
     "metadata": {
      "needs_background": "light"
     },
     "output_type": "display_data"
    }
   ],
   "source": [
    "plt.title(\"Distribution of survived\")\n",
    "\n",
    "plt.hist(test.Survived, bins=2, rwidth=0.8,  label='Survived')\n",
    "plt.xlabel('Lost / Survived')\n"
   ]
  },
  {
   "cell_type": "code",
   "execution_count": 206,
   "id": "4ed77a72",
   "metadata": {},
   "outputs": [
    {
     "data": {
      "text/plain": [
       "Survived  Pclass\n",
       "0         1          9919\n",
       "          2         10129\n",
       "          3         22138\n",
       "1         1         13695\n",
       "          2         10820\n",
       "          3          6152\n",
       "Name: PassengerId, dtype: int64"
      ]
     },
     "execution_count": 206,
     "metadata": {},
     "output_type": "execute_result"
    }
   ],
   "source": [
    "# выжившие по классам\n",
    "test.groupby(by=['Survived','Pclass'])['PassengerId'].count()"
   ]
  },
  {
   "cell_type": "code",
   "execution_count": 213,
   "id": "98e47bd2",
   "metadata": {},
   "outputs": [
    {
     "data": {
      "text/plain": [
       "Survived  Sex   \n",
       "0         female    21.549803\n",
       "          male      78.450197\n",
       "1         female    73.476375\n",
       "          male      26.523625\n",
       "Name: PassengerId, dtype: float64"
      ]
     },
     "execution_count": 213,
     "metadata": {},
     "output_type": "execute_result"
    }
   ],
   "source": [
    "# выжившие по полу, процентное соотношение\n",
    "test.groupby(by=['Survived','Sex'])['PassengerId'].count()/test.groupby(by=['Survived'])['PassengerId'].count() * 100\n"
   ]
  },
  {
   "cell_type": "code",
   "execution_count": 221,
   "id": "c2eb1a8b",
   "metadata": {},
   "outputs": [
    {
     "data": {
      "text/plain": [
       "<matplotlib.legend.Legend at 0x182c7e40760>"
      ]
     },
     "execution_count": 221,
     "metadata": {},
     "output_type": "execute_result"
    },
    {
     "data": {
      "image/png": "[encoded data removed]",
      "text/plain": [
       "<Figure size 432x288 with 1 Axes>"
      ]
     },
     "metadata": {
      "needs_background": "light"
     },
     "output_type": "display_data"
    }
   ],
   "source": [
    "plt.hist(test.Sex, bins=2, rwidth=0.8, stacked=True, label='Survived')\n",
    "plt.hist(test[test.Survived ==0].Sex, bins=2,rwidth = 0.8, label='Drowned')\n",
    "plt.xlabel('male / female')\n",
    "plt.legend()"
   ]
  },
  {
   "cell_type": "code",
   "execution_count": 218,
   "id": "6adb8ff5",
   "metadata": {},
   "outputs": [
    {
     "data": {
      "text/plain": [
       "Survived  Pclass\n",
       "0         1          9919\n",
       "          2         10129\n",
       "          3         22138\n",
       "1         1         13695\n",
       "          2         10820\n",
       "          3          6152\n",
       "Name: PassengerId, dtype: int64"
      ]
     },
     "execution_count": 218,
     "metadata": {},
     "output_type": "execute_result"
    }
   ],
   "source": [
    "# выжившие по классам\n",
    "test.groupby(by=['Survived','Pclass'])['PassengerId'].count()"
   ]
  },
  {
   "cell_type": "code",
   "execution_count": 219,
   "id": "6d0adfad",
   "metadata": {},
   "outputs": [
    {
     "data": {
      "text/plain": [
       "Survived  Pclass\n",
       "0         1         23.512540\n",
       "          2         24.010335\n",
       "          3         52.477125\n",
       "1         1         44.657123\n",
       "          2         35.282225\n",
       "          3         20.060652\n",
       "Name: PassengerId, dtype: float64"
      ]
     },
     "execution_count": 219,
     "metadata": {},
     "output_type": "execute_result"
    }
   ],
   "source": [
    "# выжившие по классам: процентное соотношение\n",
    "test.groupby(by=['Survived','Pclass'])['PassengerId'].count()/test.groupby(by=['Survived'])['PassengerId'].count()*100"
   ]
  },
  {
   "cell_type": "code",
   "execution_count": 223,
   "id": "51285923",
   "metadata": {},
   "outputs": [
    {
     "data": {
      "text/plain": [
       "<matplotlib.legend.Legend at 0x182c864dfa0>"
      ]
     },
     "execution_count": 223,
     "metadata": {},
     "output_type": "execute_result"
    },
    {
     "data": {
      "image/png": "[encoded data removed]",
      "text/plain": [
       "<Figure size 432x288 with 1 Axes>"
      ]
     },
     "metadata": {
      "needs_background": "light"
     },
     "output_type": "display_data"
    }
   ],
   "source": [
    "plt.hist(test.Pclass, bins=3, rwidth=0.8, stacked=True, label='Survived')\n",
    "plt.hist(test[test.Survived == 0].Pclass, bins=3, rwidth=0.8, label='Drowned')\n",
    "plt.xlabel('1 class / 2 class / 3 class')\n",
    "plt.legend()"
   ]
  },
  {
   "cell_type": "code",
   "execution_count": 208,
   "id": "605d16aa",
   "metadata": {},
   "outputs": [
    {
     "data": {
      "text/plain": [
       "Survived  Pclass  Sex   \n",
       "0         1       female     2943\n",
       "                  male       6976\n",
       "          2       female     2601\n",
       "                  male       7528\n",
       "          3       female     3547\n",
       "                  male      18591\n",
       "1         1       female     9659\n",
       "                  male       4036\n",
       "          2       female     8552\n",
       "                  male       2268\n",
       "          3       female     4322\n",
       "                  male       1830\n",
       "Name: PassengerId, dtype: int64"
      ]
     },
     "execution_count": 208,
     "metadata": {},
     "output_type": "execute_result"
    }
   ],
   "source": [
    "# выжившие по классам и по полу\n",
    "test.groupby(by=['Survived','Pclass','Sex'])['PassengerId'].count()"
   ]
  },
  {
   "cell_type": "code",
   "execution_count": 216,
   "id": "7dceb5b8",
   "metadata": {},
   "outputs": [
    {
     "data": {
      "text/plain": [
       "Survived  Pclass  Sex   \n",
       "0         1       female    29.670330\n",
       "                  male      70.329670\n",
       "          2       female    25.678744\n",
       "                  male      74.321256\n",
       "          3       female    16.022224\n",
       "                  male      83.977776\n",
       "1         1       female    70.529390\n",
       "                  male      29.470610\n",
       "          2       female    79.038817\n",
       "                  male      20.961183\n",
       "          3       female    70.253576\n",
       "                  male      29.746424\n",
       "Name: PassengerId, dtype: float64"
      ]
     },
     "execution_count": 216,
     "metadata": {},
     "output_type": "execute_result"
    }
   ],
   "source": [
    "# распределение выживших по полу по классам по отношению ко всем выжившим в классе в процентах\n",
    "test.groupby(by=['Survived','Pclass','Sex'])['PassengerId']\\\n",
    " .count()/test.groupby(by=['Survived','Pclass'])['PassengerId'].count()*100"
   ]
  },
  {
   "cell_type": "markdown",
   "id": "2399b85d",
   "metadata": {},
   "source": [
    "Вывод: Больше всего погибло мужчин 3-го класса, выжило женщин 2-го класса"
   ]
  },
  {
   "cell_type": "markdown",
   "id": "03513d43",
   "metadata": {},
   "source": [
    "Распределение выживших с детьми и без"
   ]
  },
  {
   "cell_type": "code",
   "execution_count": 224,
   "id": "9bec7560",
   "metadata": {},
   "outputs": [
    {
     "data": {
      "text/plain": [
       "9605"
      ]
     },
     "execution_count": 224,
     "metadata": {},
     "output_type": "execute_result"
    }
   ],
   "source": [
    "#кол-во выживших с детьми\n",
    "len(test[(test['Survived']  == 1 ) & (test['Parch']  > 0) ])"
   ]
  },
  {
   "cell_type": "code",
   "execution_count": 229,
   "id": "7f54a96a",
   "metadata": {},
   "outputs": [
    {
     "data": {
      "text/plain": [
       "21062"
      ]
     },
     "execution_count": 229,
     "metadata": {},
     "output_type": "execute_result"
    }
   ],
   "source": [
    "#кол-во выживших без детей|родителей\n",
    "len(test[(test['Survived']  == 1 ) & (test['Parch']  == 0) ])"
   ]
  },
  {
   "cell_type": "code",
   "execution_count": 228,
   "id": "392eb2b4",
   "metadata": {},
   "outputs": [
    {
     "data": {
      "text/plain": [
       "Text(0, 0.5, 'Survived')"
      ]
     },
     "execution_count": 228,
     "metadata": {},
     "output_type": "execute_result"
    },
    {
     "data": {
      "image/png": "[encoded data removed]",
      "text/plain": [
       "<Figure size 432x288 with 1 Axes>"
      ]
     },
     "metadata": {
      "needs_background": "light"
     },
     "output_type": "display_data"
    }
   ],
   "source": [
    "plt.hist(test[test.Survived == 1]['Parch'])\n",
    "plt.ylabel(\"Survived\")"
   ]
  },
  {
   "cell_type": "code",
   "execution_count": 230,
   "id": "a686288b",
   "metadata": {},
   "outputs": [
    {
     "data": {
      "text/plain": [
       "22291"
      ]
     },
     "execution_count": 230,
     "metadata": {},
     "output_type": "execute_result"
    }
   ],
   "source": [
    "#кол-во выживших без родственников\n",
    "len(test[(test['Survived']  == 1 ) & (test['SibSp']  == 0)])"
   ]
  },
  {
   "cell_type": "code",
   "execution_count": 231,
   "id": "74b2e373",
   "metadata": {},
   "outputs": [
    {
     "data": {
      "text/plain": [
       "8376"
      ]
     },
     "execution_count": 231,
     "metadata": {},
     "output_type": "execute_result"
    }
   ],
   "source": [
    "#кол-во выживших без родственников\n",
    "len(test[(test['Survived']  == 1 ) & (test['SibSp'] > 0)])"
   ]
  },
  {
   "cell_type": "markdown",
   "id": "034945c8",
   "metadata": {},
   "source": [
    "# Summary"
   ]
  },
  {
   "cell_type": "code",
   "execution_count": null,
   "id": "72e3fb13",
   "metadata": {},
   "outputs": [],
   "source": [
    "Вероятность выжить больше у одиноких женщин первого класса"
   ]
  }
 ],
 "metadata": {
  "kernelspec": {
   "display_name": "Python 3 (ipykernel)",
   "language": "python",
   "name": "python3"
  },
  "language_info": {
   "codemirror_mode": {
    "name": "ipython",
    "version": 3
   },
   "file_extension": ".py",
   "mimetype": "text/x-python",
   "name": "python",
   "nbconvert_exporter": "python",
   "pygments_lexer": "ipython3",
   "version": "3.9.7"
  },
  "toc": {
   "base_numbering": 1,
   "nav_menu": {},
   "number_sections": true,
   "sideBar": true,
   "skip_h1_title": false,
   "title_cell": "Table of Contents",
   "title_sidebar": "Contents",
   "toc_cell": false,
   "toc_position": {},
   "toc_section_display": true,
   "toc_window_display": false
  }
 },
 "nbformat": 4,
 "nbformat_minor": 5
}
